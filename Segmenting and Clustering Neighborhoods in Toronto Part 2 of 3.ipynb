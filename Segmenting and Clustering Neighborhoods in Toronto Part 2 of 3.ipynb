{
    "nbformat_minor": 1, 
    "cells": [
        {
            "source": "# Segmenting and Clustering Neighborhoods in Toronto\n\nBy Thibault D.", 
            "cell_type": "markdown", 
            "metadata": {
                "collapsed": true
            }
        }, 
        {
            "source": "## Table of Contents\n \n1. Wikipedia Scrapping\n2. Geolocalization\n3. Exploration and Clustering", 
            "cell_type": "markdown", 
            "metadata": {}
        }, 
        {
            "execution_count": 160, 
            "cell_type": "code", 
            "metadata": {}, 
            "outputs": [], 
            "source": "# import libraries\n# url fetch\nimport requests\nfrom pandas.io.json import json_normalize\n\n# scrapping\n# !conda install beautifulsoup4\nfrom bs4 import BeautifulSoup\n\n# data\nimport pandas as pd\npd.set_option('display.max_rows', 500)\npd.set_option('display.max_columns', 500)\npd.set_option('display.width', 1000)\n\nimport numpy as np\n\n# geolocalization\nfrom geopy.geocoders import Nominatim\nimport geocoder\n\n# plot\nimport folium\nimport matplotlib.pyplot as plt\nimport seaborn as sns\nsns.set_style(\"whitegrid\")\n\n# Matplotlib and associated plotting modules\nimport matplotlib.cm as cm\nimport matplotlib.colors as colors\n\n# KMean clustering\nfrom sklearn.cluster import KMeans"
        }, 
        {
            "source": "# PART 1: START  \n__________________", 
            "cell_type": "markdown", 
            "metadata": {}
        }, 
        {
            "source": "## 1. Wikipedia Scrapping\n\nIn this section, we use the BeautifulSoup library to extract the table containing the list of Neighborhood in Toronto.\nThe following steps are followed:\n1. Create a soup object that contains the webpage data.\n2. Retrieve the subset of HTML code which contains the table data.\n3. Extract the headers from the table.\n4. Extract the content of the table.", 
            "cell_type": "markdown", 
            "metadata": {}
        }, 
        {
            "source": "**Step 1: Create a soup object that contains the webpage data.**", 
            "cell_type": "markdown", 
            "metadata": {}
        }, 
        {
            "execution_count": 161, 
            "cell_type": "code", 
            "metadata": {}, 
            "outputs": [], 
            "source": "# url to be scrapped\nURL = 'https://en.wikipedia.org/wiki/List_of_postal_codes_of_Canada:_M'"
        }, 
        {
            "execution_count": 162, 
            "cell_type": "code", 
            "metadata": {}, 
            "outputs": [], 
            "source": "# GET request\nrequest = requests.get(URL)\ndata = request.text\n\n# convert request to soup\nsoup = BeautifulSoup(data, \"lxml\")"
        }, 
        {
            "execution_count": 165, 
            "cell_type": "code", 
            "metadata": {}, 
            "outputs": [
                {
                    "output_type": "stream", 
                    "name": "stdout", 
                    "text": "<!DOCTYPE html>\n<html class=\"client-nojs\" dir=\"ltr\" lang=\"en\">\n <head>\n  <meta charset=\"utf-8\"/>\n  <title>\n   List of postal codes of Canada: M - Wikipedia\n  </title>\n  <script>\n   document.documentElement.className = document.documentElement.className.replace( /(^|\\s)client-nojs(\\s|$)/, \"$1client-js$2\" );\n  </script>\n  <script>\n   (window.RLQ=window.RLQ||[]).push(function(){mw.config.set({\"wgCanonicalNamespace\":\"\",\"wgCanonicalSpecialPageName\":false,\"wgNamespaceNumber\":0,\"wgPageName\":\"List_of_postal_codes_of_Canada:_M\",\"wgTitle\":\"List of postal codes of Canada: M\",\"wgCurRevisionId\":876823784,\"wgRevisionId\":876823784,\"wgArticleId\":539066,\"wgIsArticle\":true,\"wgIsRedirect\":false,\"wgAction\":\"view\",\"wgUserName\":null,\"wgUserGroups\":[\"*\"],\"wgCategories\":[\"Communications in Ontario\",\"Postal codes in Canada\",\"Toronto\",\"Ontario-related lists\"],\"wgBreakFrames\":false,\"wgPageContentLanguage\":\"en\",\"wgPageContentModel\":\"wikitext\",\"wgSeparatorTransformTable\":[\"\",\"\"],\"wgDigitTransformTable\":[\"\",\"\"],\"wgDefaultDateFormat\":\"dmy\",\"wgMonthNames\":[\"\",\"January\",\"February\",\"March\",\"April\",\"May\",\"June\",\"July\",\"August\",\"September\",\"October\",\"November\",\"December\"],\"wgMonthNamesShort\":[\"\",\"Jan\",\"Feb\",\"Mar\",\"Apr\",\"May\",\"Jun\",\"Jul\",\"Aug\",\"Sep\",\"Oct\",\"Nov\",\"Dec\"],\"wgRelevantPageName\":\"List_of_postal_codes_of_Canada:_M\",\"wgRelevantArticleId\":539066,\"wgRequestId\":\"XHWTAwpAMFUAADy5QbIAAABE\",\"wgCSPNonce\":false,\"wgIsProbablyEditable\":true,\"wgRelevantPageIsProbablyEditable\":true,\"wgRestrictionEdit\":[],\"wgRestrictionMove\":[],\"wgFlaggedRevsParams\":{\"tags\":{}},\"wgStableRevisionId\":null,\"wgCategoryTreePageCategoryOptions\":\"{\\\"mode\\\":0,\\\"hideprefix\\\":20,\\\"showcount\\\":true,\\\"namespaces\\\":false}\",\"wgWikiEditorEnabledModules\":[],\"wgBetaFeaturesFeatures\":[],\"wgMediaViewerOnClick\":true,\"wgMediaViewerEnabledByDefault\":true,\"wgPopupsShouldSendModuleToUser\":true,\"wgPopupsConflictsWithNavPopupGadget\":false,\"wgVisualEditor\":{\"pageLanguageCode\":\"en\",\"pageLanguageDir\":\"ltr\",\"pageVariantFallbacks\":\"en\",\"usePageImages\":true,\"usePageDescriptions\":true},\"wgMFIsPageContentModelEditable\":true,\"wgMFEnableFontChanger\":true,\"wgMFDisplayWikibaseDescriptions\":{\"search\":true,\"nearby\":true,\"watchlist\":true,\"tagline\":false},\"wgRelatedArticles\":null,\"wgRelatedArticlesUseCirrusSearch\":true,\"wgRelatedArticlesOnlyUseCirrusSearch\":false,\"wgWMESchemaEditAttemptStepOversample\":false,\"wgPoweredByHHVM\":true,\"wgULSCurrentAutonym\":\"English\",\"wgNoticeProject\":\"wikipedia\",\"wgCentralNoticeCookiesToDelete\":[],\"wgCentralNoticeCategoriesUsingLegacy\":[\"Fundraising\",\"fundraising\"],\"wgWikibaseItemId\":\"Q3248240\",\"wgScoreNoteLanguages\":{\"arabic\":\"\u0627\u0644\u0639\u0631\u0628\u064a\u0629\",\"catalan\":\"catal\u00e0\",\"deutsch\":\"Deutsch\",\"english\":\"English\",\"espanol\":\"espa\u00f1ol\",\"italiano\":\"italiano\",\"nederlands\":\"Nederlands\",\"norsk\":\"norsk\",\"portugues\":\"portugu\u00eas\",\"suomi\":\"suomi\",\"svenska\":\"svenska\",\"vlaams\":\"West-Vlams\"},\"wgScoreDefaultNoteLanguage\":\"nederlands\",\"wgCentralAuthMobileDomain\":false,\"wgCodeMirrorEnabled\":true,\"wgVisualEditorToolbarScrollOffset\":0,\"wgVisualEditorUnsupportedEditParams\":[\"undo\",\"undoafter\",\"veswitched\"],\"wgEditSubmitButtonLabelPublish\":true,\"oresWikiId\":\"enwiki\",\"oresBaseUrl\":\"http://ores.discovery.wmnet:8081/\",\"oresApiVersion\":3});mw.loader.state({\"ext.gadget.charinsert-styles\":\"ready\",\"ext.globalCssJs.user.styles\":\"ready\",\"ext.globalCssJs.site.styles\":\"ready\",\"site.styles\":\"ready\",\"noscript\":\"ready\",\"user.styles\":\"ready\",\"ext.globalCssJs.user\":\"ready\",\"ext.globalCssJs.site\":\"ready\",\"user\":\"ready\",\"user.options\":\"ready\",\"user.tokens\":\"loading\",\"ext.cite.styles\":\"ready\",\"mediawiki.legacy.shared\":\"ready\",\"mediawiki.legacy.commonPrint\":\"ready\",\"wikibase.client.init\":\"ready\",\"ext.visualEditor.desktopArticleTarget.noscript\":\"ready\",\"ext.uls.interlanguage\":\"ready\",\"ext.wikimediaBadges\":\"ready\",\"ext.3d.styles\":\"ready\",\"mediawiki.skinning.interface\":\"ready\",\"skins.vector.styles\":\"ready\"});mw.loader.implement(\"user.tokens@0tffind\",function($,jQuery,require,module){/*@nomin*/mw.user.tokens.set({\"editToken\":\"+\\\\\",\"patrolToken\":\"+\\\\\",\"watchToken\":\"+\\\\\",\"csrfToken\":\"+\\\\\"});\n});RLPAGEMODULES=[\"ext.cite.ux-enhancements\",\"site\",\"mediawiki.page.startup\",\"mediawiki.page.ready\",\"jquery.tablesorter\",\"mediawiki.searchSuggest\",\"ext.gadget.teahouse\",\"ext.gadget.ReferenceTooltips\",\"ext.gadget.watchlist-notice\",\"ext.gadget.DRN-wizard\",\"ext.gadget.charinsert\",\"ext.gadget.refToolbar\",\"ext.gadget.extra-toolbar-buttons\",\"ext.gadget.switcher\",\"ext.centralauth.centralautologin\",\"mmv.head\",\"mmv.bootstrap.autostart\",\"ext.popups\",\"ext.visualEditor.desktopArticleTarget.init\",\"ext.visualEditor.targetLoader\",\"ext.eventLogging\",\"ext.wikimediaEvents\",\"ext.navigationTiming\",\"ext.uls.eventlogger\",\"ext.uls.init\",\"ext.uls.compactlinks\",\"ext.uls.interface\",\"ext.quicksurveys.init\",\"ext.centralNotice.geoIP\",\"ext.centralNotice.startUp\",\"skins.vector.js\"];mw.loader.load(RLPAGEMODULES);});\n  </script>\n  <link href=\"/w/load.php?debug=false&amp;lang=en&amp;modules=ext.3d.styles%7Cext.cite.styles%7Cext.uls.interlanguage%7Cext.visualEditor.desktopArticleTarget.nosc\n"
                }
            ], 
            "source": "# display content of soupd\nprint(soup.prettify()[:5000])"
        }, 
        {
            "source": "As we can see above, the data is contained in a **table**, the headers are stored between **th** tags while the data is stored using **td** tags.", 
            "cell_type": "markdown", 
            "metadata": {}
        }, 
        {
            "source": "**Step 2: Retrieve the subset of HTML code which contains the table data.**", 
            "cell_type": "markdown", 
            "metadata": {}
        }, 
        {
            "execution_count": 8, 
            "cell_type": "code", 
            "metadata": {}, 
            "outputs": [
                {
                    "output_type": "stream", 
                    "name": "stdout", 
                    "text": "<table class=\"wikitable sortable\">\n<tbody><tr>\n<th>Postcode</th>\n<th>Borough</th>\n<th>Neighbourhood\n</th></tr>\n<tr>\n<td>M1A</td>\n<td>Not assigned</td>\n<td>Not assigned\n</td></tr>\n<tr>\n<td>M2A</td>\n<td>Not assigned</td>\n<td>Not assigned\n</td></tr>\n<tr>\n<td>M3A</td>\n<td><a href=\"/wiki/North_York\" title=\"North York\">North York</a></td>\n<td><a href=\"/wiki/Parkwoods\" title=\"Parkwoods\">Parkwoods</a>\n</td></tr>\n<tr>\n<td>M4A</td>\n<td><a href=\"/wiki/North_York\" title=\"North York\">North York</a></td>\n<td><a href=\"/wiki/Victoria_Village\" title=\"Victoria Village\">Victoria Village</a>\n</td></tr>\n<tr>\n<td>M5A</td>\n<td><a href=\"/wiki/Downtown_Toronto\" title=\"Downtown Toronto\">Downtown Toronto</a></td>\n<td><a href=\"/wiki/Harbourfront_(Toronto)\" title=\"Harbourfront (Toronto)\">Harbourfront</a>\n</td></tr>\n<tr>\n<td>M5A</td>\n<td><a href=\"/wiki/Downtown_Toronto\" title=\"Downtown Toronto\">Downtown Toronto</a></td>\n<td><a href=\"/wiki/Regent_Park\" title=\"Regent Park\">Regent Park</a>\n</td></tr>\n<tr>\n<td>M6A</td>\n<td><a href=\"/wiki/North_York\" title=\"North York\">North York</a></td>\n<td><a href=\"/wiki/Lawrence_Heights\" title=\"Lawrence Heights\">Lawrence Heights</a>\n</td></tr>\n<tr>\n<td>M6A</td>\n<td><a href=\"/wiki/North_York\" title=\"North York\">North York</a></td>\n<td><a href=\"/wiki/Lawrence_Manor\" title=\"Lawrence Manor\">Lawrence Manor</a>\n</td></tr>\n<tr>\n<td>M7A</td>\n<td><a href=\"/wiki/Queen%27s_Park_(Toronto)\" title=\"Queen's Park (Toronto)\">Queen's Park</a></td>\n<td>Not assigned\n</td></tr>\n<tr>\n<td>M8A</td>\n<td>Not assigned</td>\n<td>Not assigned\n</td></tr>\n<tr>\n<td>M9A</td>\n<td><a href=\"/wiki/Etobicoke\" title=\"Etobicoke\">Etobicoke</a></td>\n<td><a class=\"mw-redirect\" href=\"/wiki/Islington_Avenue\" title=\"Islington Avenue\">Islington Avenue</a>\n</td></tr>\n<tr>\n<td>M1B</td>\n<td><a href=\"/wiki/Scarborough,_Toronto\" title=\"Scarborough, Toronto\">Scarborough</a></td>\n<td><a href=\"/wiki/Rouge,_Toronto\" title=\"Rouge, Toronto\">Rouge</a>\n</td></tr>\n<tr>\n<td>M1B</td>\n<td><a href=\"/wiki/Scarborough,_Toronto\" title=\"Scarborough, Toronto\">Scarborough</a></td>\n<td><a href=\"/wiki/Malvern,_Toronto\" title=\"Malvern, Toronto\">Malvern</a>\n</td></tr>\n<tr>\n<td>M2B</td>\n<td>Not assigned</td>\n<td>Not assigned\n</td></tr>\n<tr>\n<td>M3B</td>\n<td><a href=\"/wiki/North_York\" title=\"North York\">North York</a></td>\n<td>Don Mills North\n</td></tr>\n<tr>\n<td>M4B</td>\n<td><a href=\"/wiki/East_York\" title=\"East York\">East York</a></td>\n<td><a class=\"mw-redirect\" href=\"/wiki/Woodbine_Gardens\" title=\"Woodbine Gardens\">Woodbine Gardens</a>\n</td></tr>\n<tr>\n<td>M4B</td>\n<td><a href=\"/wiki/East_York\" title=\"East York\">East York</a></td>\n<td><a class=\"mw-redirect\" href=\"/wiki/Parkview_Hill\" title=\"Parkview Hill\">Parkview Hill</a>\n</td></tr>\n<tr>\n<td>M5B</td>\n<td><a href=\"/wiki/Downtown_Toronto\" title=\"Downtown Toronto\">Downtown Toronto</a></td>\n<td><a href=\"/wiki/Ryerson\" title=\"Ryerson\">Ryerson</a>\n</td></tr>\n<tr>\n<td>M5B</td>\n<td><a href=\"/wiki/Downtown_Toronto\" title=\"Downtown Toronto\">Downtown Toronto</a></td>\n<td>Garden District\n</td></tr>\n<tr>\n<td>M6B</td>\n<td><a href=\"/wiki/North_York\" title=\"North York\">North York</a></td>\n<td><a class=\"mw-redirect\" href=\"/wiki/Glencairn,_Ontario\" title=\"Glencairn, Ontario\">Glencairn</a>\n</td></tr>\n<tr>\n<td>M7B</td>\n<td>Not assigned</td>\n<td>Not assigned\n</td></tr>\n<tr>\n<td>M8B</td>\n<td>Not assigned</td>\n<td>Not assigned\n</td></tr>\n<tr>\n<td>M9B</td>\n<td><a href=\"/wiki/Etobicoke\" title=\"Etobicoke\">Etobicoke</a></td>\n<td>Cloverdale\n</td></tr>\n<tr>\n<td>M9B</td>\n<td><a href=\"/wiki/Etobicoke\" title=\"Etobicoke\">Etobicoke</a></td>\n<td><a href=\"/wiki/Islington\" title=\"Islington\">Islington</a>\n</td></tr>\n<tr>\n<td>M9B</td>\n<td><a href=\"/wiki/Etobicoke\" title=\"Etobicoke\">Etobicoke</a></td>\n<td>Martin Grove\n</td></tr>\n<tr>\n<td>M9B</td>\n<td><a href=\"/wiki/Etobicoke\" title=\"Etobicoke\">Etobicoke</a></td>\n<td><a href=\"/wiki/Princess_Gardens\" title=\"Princess Gardens\">Princess Gardens</a>\n</td></tr>\n<tr>\n<td>M9B</td>\n<td><a href=\"/wiki/Etobicoke\" title=\"Etobicoke\">Etobicoke</a></td>\n<td><a class=\"mw-redirect\" href=\"/wiki/West_Deane_Park\" title=\"West Deane Park\">West Deane Park</a>\n</td></tr>\n<tr>\n<td>M1C</td>\n<td><a href=\"/wiki/Scarborough,_Toronto\" title=\"Scarborough, Toronto\">Scarborough</a></td>\n<td><a href=\"/wiki/Highland_Creek_(Toronto)\" title=\"Highland Creek (Toronto)\">Highland Creek</a>\n</td></tr>\n<tr>\n<td>M1C</td>\n<td><a href=\"/wiki/Scarborough,_Toronto\" title=\"Scarborough, Toronto\">Scarborough</a></td>\n<td><a class=\"mw-redirect\" href=\"/wiki/Rouge_Hill\" title=\"Rouge Hill\">Rouge Hill</a>\n</td></tr>\n<tr>\n<td>M1C</td>\n<td><a href=\"/wiki/Scarborough,_Toronto\" title=\"Scarborough, Toronto\">Scarborough</a></td>\n<td><a href=\"/wiki/Port_Union,_Toronto\" title=\"Port Union, Toronto\">Port Union</a>\n</td></tr>\n<tr>\n<td>M2C</td>\n<td>Not assigned</td>\n<td>Not assigned\n</td></tr>\n<tr>\n<td>M3C</td>\n<td><a href=\"/wiki/North_York\" title=\"North York\">North York</a></td>\n<td><a href=\"/wiki/Flemingdon_Park\" title=\"Flemingdon Park\">Flemingdon Park</a>\n</td></tr>\n<tr>\n<td>M3C</td>\n<td><a href=\"/wiki/North_York\" title=\"North York\">North York</a></td>\n<td>Don Mills South\n</td></tr>\n<tr>\n<td>M4C</td>\n<td><a href=\"/wiki/East_York\" title=\"East York\">East York</a></td>\n<td><a class=\"mw-redirect\" href=\"/wiki/Woodbine_Heights\" title=\"Woodbine Heights\">Woodbine Heights</a>\n</td></tr>\n<tr>\n<td>M5C</td>\n<td><a href=\"/wiki/Downtown_Toronto\" title=\"Downtown Toronto\">Downtown Toronto</a></td>\n<td><a href=\"/wiki/St._James_Town\" title=\"St. James Town\">St. James Town</a>\n</td></tr>\n<tr>\n<td>M6C</td>\n<td>York</td>\n<td><a class=\"mw-redirect\" href=\"/wiki/Humewood-Cedarvale\" title=\"Humewood-Cedarvale\">Humewood-Cedarvale</a>\n</td></tr>\n<tr>\n<td>M7C</td>\n<td>Not assigned</td>\n<td>Not assigned\n</td></tr>\n<tr>\n<td>M8C</td>\n<td>Not assigned</td>\n<td>Not assigned\n</td></tr>\n<tr>\n<td>M9C</td>\n<td><a href=\"/wiki/Etobicoke\" title=\"Etobicoke\">Etobicoke</a></td>\n<td>Bloordale Gardens\n</td></tr>\n<tr>\n<td>M9C</td>\n<td><a href=\"/wiki/Etobicoke\" title=\"Etobicoke\">Etobicoke</a></td>\n<td>Eringate\n</td></tr>\n<tr>\n<td>M9C</td>\n<td><a href=\"/wiki/Etobicoke\" title=\"Etobicoke\">Etobicoke</a></td>\n<td><a href=\"/wiki/Markland_Wood\" title=\"Markland Wood\">Markland Wood</a>\n</td></tr>\n<tr>\n<td>M9C</td>\n<td><a href=\"/wiki/Etobicoke\" title=\"Etobicoke\">Etobicoke</a></td>\n<td>Old Burnhamthorpe\n</td></tr>\n<tr>\n<td>M1E</td>\n<td><a href=\"/wiki/Scarborough,_Toronto\" title=\"Scarborough, Toronto\">Scarborough</a></td>\n<td>Guildwood\n</td></tr>\n<tr>\n<td>M1E</td>\n<td><a href=\"/wiki/Scarborough,_Toronto\" title=\"Scarborough, Toronto\">Scarborough</a></td>\n<td><a href=\"/wiki/Morningside,_Toronto\" title=\"Morningside, Toronto\">Morningside</a>\n</td></tr>\n<tr>\n<td>M1E</td>\n<td><a href=\"/wiki/Scarborough,_Toronto\" title=\"Scarborough, Toronto\">Scarborough</a></td>\n<td><a href=\"/wiki/West_Hill,_Toronto\" title=\"West Hill, Toronto\">West Hill</a>\n</td></tr>\n<tr>\n<td>M2E</td>\n<td>Not assigned</td>\n<td>Not assigned\n</td></tr>\n<tr>\n<td>M3E</td>\n<td>Not assigned</td>\n<td>Not assigned\n</td></tr>\n<tr>\n<td>M4E</td>\n<td><a href=\"/wiki/East_Toronto\" title=\"East Toronto\">East Toronto</a></td>\n<td><a href=\"/wiki/The_Beaches\" title=\"The Beaches\">The Beaches</a>\n</td></tr>\n<tr>\n<td>M5E</td>\n<td><a href=\"/wiki/Downtown_Toronto\" title=\"Downtown Toronto\">Downtown Toronto</a></td>\n<td><a href=\"/wiki/Berczy_Park\" title=\"Berczy Park\">Berczy Park</a>\n</td></tr>\n<tr>\n<td>M6E</td>\n<td>York</td>\n<td>Caledonia-Fairbanks\n</td></tr>\n<tr>\n<td>M7E</td>\n<td>Not assigned</td>\n<td>Not assigned\n</td></tr>\n<tr>\n<td>M8E</td>\n<td>Not assigned</td>\n<td>Not assigned\n</td></tr>\n<tr>\n<td>M9E</td>\n<td>Not assigned</td>\n<td>Not assigned\n</td></tr>\n<tr>\n<td>M1G</td>\n<td><a href=\"/wiki/Scarborough,_Toronto\" title=\"Scarborough, Toronto\">Scarborough</a></td>\n<td><a href=\"/wiki/Woburn,_Toronto\" title=\"Woburn, Toronto\">Woburn</a>\n</td></tr>\n<tr>\n<td>M2G</td>\n<td>Not assigned</td>\n<td>Not assigned\n</td></tr>\n<tr>\n<td>M3G</td>\n<td>Not assigned</td>\n<td>Not assigned\n</td></tr>\n<tr>\n<td>M4G</td>\n<td><a href=\"/wiki/East_York\" title=\"East York\">East York</a></td>\n<td><a href=\"/wiki/Leaside\" title=\"Leaside\">Leaside</a>\n</td></tr>\n<tr>\n<td>M5G</td>\n<td><a href=\"/wiki/Downtown_Toronto\" title=\"Downtown Toronto\">Downtown Toronto</a></td>\n<td>Central Bay Street\n</td></tr>\n<tr>\n<td>M6G</td>\n<td><a href=\"/wiki/Downtown_Toronto\" title=\"Downtown Toronto\">Downtown Toronto</a></td>\n<td>Christie\n</td></tr>\n<tr>\n<td>M7G</td>\n<td>Not assigned</td>\n<td>Not assigned\n</td></tr>\n<tr>\n<td>M8G</td>\n<td>Not assigned</td>\n<td>Not assigned\n</td></tr>\n<tr>\n<td>M9G</td>\n<td>Not assigned</td>\n<td>Not assigned\n</td></tr>\n<tr>\n<td>M1H</td>\n<td><a href=\"/wiki/Scarborough,_Toronto\" title=\"Scarborough, Toronto\">Scarborough</a></td>\n<td><a href=\"/wiki/Woburn,_Toronto\" title=\"Woburn, Toronto\">Cedarbrae</a>\n</td></tr>\n<tr>\n<td>M2H</td>\n<td><a href=\"/wiki/North_York\" title=\"North York\">North York</a></td>\n<td><a href=\"/wiki/Hillcrest_Village\" title=\"Hillcrest Village\">Hillcrest Village</a>\n</td></tr>\n<tr>\n<td>M3H</td>\n<td><a href=\"/wiki/North_York\" title=\"North York\">North York</a></td>\n<td><a href=\"/wiki/Bathurst_Manor\" title=\"Bathurst Manor\">Bathurst Manor</a>\n</td></tr>\n<tr>\n<td>M3H</td>\n<td><a href=\"/wiki/North_York\" title=\"North York\">North York</a></td>\n<td>Downsview North\n</td></tr>\n<tr>\n<td>M3H</td>\n<td><a href=\"/wiki/North_York\" title=\"North York\">North York</a></td>\n<td><a class=\"mw-redirect\" href=\"/wiki/Wilson_Heights,_Toronto\" title=\"Wilson Heights, Toronto\">Wilson Heights</a>\n</td></tr>\n<tr>\n<td>M4H</td>\n<td><a href=\"/wiki/East_York\" title=\"East York\">East York</a></td>\n<td><a href=\"/wiki/Thorncliffe_Park\" title=\"Thorncliffe Park\">Thorncliffe Park</a>\n</td></tr>\n<tr>\n<td>M5H</td>\n<td><a href=\"/wiki/Downtown_Toronto\" title=\"Downtown Toronto\">Downtown Toronto</a></td>\n<td><a href=\"/wiki/Adelaide\" title=\"Adelaide\">Adelaide</a>\n</td></tr>\n<tr>\n<td>M5H</td>\n<td><a href=\"/wiki/Downtown_Toronto\" title=\"Downtown Toronto\">Downtown Toronto</a></td>\n<td><a href=\"/wiki/King\" title=\"King\">King</a>\n</td></tr>\n<tr>\n<td>M5H</td>\n<td><a href=\"/wiki/Downtown_Toronto\" title=\"Downtown Toronto\">Downtown Toronto</a></td>\n<td>Richmond\n</td></tr>\n<tr>\n<td>M6H</td>\n<td><a href=\"/wiki/West_Toronto\" title=\"West Toronto\">West Toronto</a></td>\n<td><a class=\"mw-redirect\" href=\"/wiki/Dovercourt_Village\" title=\"Dovercourt Village\">Dovercourt Village</a>\n</td></tr>\n<tr>\n<td>M6H</td>\n<td><a href=\"/wiki/West_Toronto\" title=\"West Toronto\">West Toronto</a></td>\n<td>Dufferin\n</td></tr>\n<tr>\n<td>M7H</td>\n<td>Not assigned</td>\n<td>Not assigned\n</td></tr>\n<tr>\n<td>M8H</td>\n<td>Not assigned</td>\n<td>Not assigned\n</td></tr>\n<tr>\n<td>M9H</td>\n<td>Not assigned</td>\n<td>Not assigned\n</td></tr>\n<tr>\n<td>M1J</td>\n<td><a href=\"/wiki/Scarborough,_Toronto\" title=\"Scarborough, Toronto\">Scarborough</a></td>\n<td><a href=\"/wiki/Scarborough_Village\" title=\"Scarborough Village\">Scarborough Village</a>\n</td></tr>\n<tr>\n<td>M2J</td>\n<td><a href=\"/wiki/North_York\" title=\"North York\">North York</a></td>\n<td>Fairview\n</td></tr>\n<tr>\n<td>M2J</td>\n<td><a href=\"/wiki/North_York\" title=\"North York\">North York</a></td>\n<td><a href=\"/wiki/Henry_Farm\" title=\"Henry Farm\">Henry Farm</a>\n</td></tr>\n<tr>\n<td>M2J</td>\n<td><a href=\"/wiki/North_York\" title=\"North York\">North York</a></td>\n<td>Oriole\n</td></tr>\n<tr>\n<td>M3J</td>\n<td><a href=\"/wiki/North_York\" title=\"North York\">North York</a></td>\n<td><a class=\"mw-redirect\" href=\"/wiki/Northwood_Park\" title=\"Northwood Park\">Northwood Park</a>\n</td></tr>\n<tr>\n<td>M3J</td>\n<td><a href=\"/wiki/North_York\" title=\"North York\">North York</a></td>\n<td><a href=\"/wiki/York_University\" title=\"York University\">York University</a>\n</td></tr>\n<tr>\n<td>M4J</td>\n<td><a href=\"/wiki/East_York\" title=\"East York\">East York</a></td>\n<td><a href=\"/wiki/East_Toronto\" title=\"East Toronto\">East Toronto</a>\n</td></tr>\n<tr>\n<td>M5J</td>\n<td><a href=\"/wiki/Downtown_Toronto\" title=\"Downtown Toronto\">Downtown Toronto</a></td>\n<td>Harbourfront East\n</td></tr>\n<tr>\n<td>M5J</td>\n<td><a href=\"/wiki/Downtown_Toronto\" title=\"Downtown Toronto\">Downtown Toronto</a></td>\n<td><a href=\"/wiki/Toronto_Islands\" title=\"Toronto Islands\">Toronto Islands</a>\n</td></tr>\n<tr>\n<td>M5J</td>\n<td><a href=\"/wiki/Downtown_Toronto\" title=\"Downtown Toronto\">Downtown Toronto</a></td>\n<td><a href=\"/wiki/Union_Station_(Toronto)\" title=\"Union Station (Toronto)\">Union Station</a>\n</td></tr>\n<tr>\n<td>M6J</td>\n<td><a href=\"/wiki/West_Toronto\" title=\"West Toronto\">West Toronto</a></td>\n<td><a href=\"/wiki/Little_Portugal,_Toronto\" title=\"Little Portugal, Toronto\">Little Portugal</a>\n</td></tr>\n<tr>\n<td>M6J</td>\n<td><a href=\"/wiki/West_Toronto\" title=\"West Toronto\">West Toronto</a></td>\n<td><a href=\"/wiki/Trinity%E2%80%93Bellwoods\" title=\"Trinity\u2013Bellwoods\">Trinity</a>\n</td></tr>\n<tr>\n<td>M7J</td>\n<td>Not assigned</td>\n<td>Not assigned\n</td></tr>\n<tr>\n<td>M8J</td>\n<td>Not assigned</td>\n<td>Not assigned\n</td></tr>\n<tr>\n<td>M9J</td>\n<td>Not assigned</td>\n<td>Not assigned\n</td></tr>\n<tr>\n<td>M1K</td>\n<td><a href=\"/wiki/Scarborough,_Toronto\" title=\"Scarborough, Toronto\">Scarborough</a></td>\n<td>East Birchmount Park\n</td></tr>\n<tr>\n<td>M1K</td>\n<td><a href=\"/wiki/Scarborough,_Toronto\" title=\"Scarborough, Toronto\">Scarborough</a></td>\n<td><a href=\"/wiki/Ionview\" title=\"Ionview\">Ionview</a>\n</td></tr>\n<tr>\n<td>M1K</td>\n<td><a href=\"/wiki/Scarborough,_Toronto\" title=\"Scarborough, Toronto\">Scarborough</a></td>\n<td><a class=\"mw-redirect\" href=\"/wiki/Kennedy_Park,_Toronto\" title=\"Kennedy Park, Toronto\">Kennedy Park</a>\n</td></tr>\n<tr>\n<td>M2K</td>\n<td><a href=\"/wiki/North_York\" title=\"North York\">North York</a></td>\n<td><a href=\"/wiki/Bayview_Village\" title=\"Bayview Village\">Bayview Village</a>\n</td></tr>\n<tr>\n<td>M3K</td>\n<td><a href=\"/wiki/North_York\" title=\"North York\">North York</a></td>\n<td><a href=\"/wiki/CFB_Toronto\" title=\"CFB Toronto\">CFB Toronto</a>\n</td></tr>\n<tr>\n<td>M3K</td>\n<td><a href=\"/wiki/North_York\" title=\"North York\">North York</a></td>\n<td>Downsview East\n</td></tr>\n<tr>\n<td>M4K</td>\n<td><a href=\"/wiki/East_Toronto\" title=\"East Toronto\">East Toronto</a></td>\n<td>The Danforth West\n</td></tr>\n<tr>\n<td>M4K</td>\n<td><a href=\"/wiki/East_Toronto\" title=\"East Toronto\">East Toronto</a></td>\n<td><a href=\"/wiki/Riverdale,_Toronto\" title=\"Riverdale, Toronto\">Riverdale</a>\n</td></tr>\n<tr>\n<td>M5K</td>\n<td><a href=\"/wiki/Downtown_Toronto\" title=\"Downtown Toronto\">Downtown Toronto</a></td>\n<td><a href=\"/wiki/Design_Exchange\" title=\"Design Exchange\">Design Exchange</a>\n</td></tr>\n<tr>\n<td>M5K</td>\n<td><a href=\"/wiki/Downtown_Toronto\" title=\"Downtown Toronto\">Downtown Toronto</a></td>\n<td><a class=\"mw-redirect\" href=\"/wiki/Toronto_Dominion_Centre\" title=\"Toronto Dominion Centre\">Toronto Dominion Centre</a>\n</td></tr>\n<tr>\n<td>M6K</td>\n<td><a href=\"/wiki/West_Toronto\" title=\"West Toronto\">West Toronto</a></td>\n<td>Brockton\n</td></tr>\n<tr>\n<td>M6K</td>\n<td><a href=\"/wiki/West_Toronto\" title=\"West Toronto\">West Toronto</a></td>\n<td><a href=\"/wiki/Exhibition_Place\" title=\"Exhibition Place\">Exhibition Place</a>\n</td></tr>\n<tr>\n<td>M6K</td>\n<td><a href=\"/wiki/West_Toronto\" title=\"West Toronto\">West Toronto</a></td>\n<td><a class=\"mw-redirect\" href=\"/wiki/Parkdale_Village\" title=\"Parkdale Village\">Parkdale Village</a>\n</td></tr>\n<tr>\n<td>M7K</td>\n<td>Not assigned</td>\n<td>Not assigned\n</td></tr>\n<tr>\n<td>M8K</td>\n<td>Not assigned</td>\n<td>Not assigned\n</td></tr>\n<tr>\n<td>M9K</td>\n<td>Not assigned</td>\n<td>Not assigned\n</td></tr>\n<tr>\n<td>M1L</td>\n<td><a href=\"/wiki/Scarborough,_Toronto\" title=\"Scarborough, Toronto\">Scarborough</a></td>\n<td><a href=\"/wiki/Clairlea\" title=\"Clairlea\">Clairlea</a>\n</td></tr>\n<tr>\n<td>M1L</td>\n<td><a href=\"/wiki/Scarborough,_Toronto\" title=\"Scarborough, Toronto\">Scarborough</a></td>\n<td><a href=\"/wiki/Golden_Mile,_Toronto\" title=\"Golden Mile, Toronto\">Golden Mile</a>\n</td></tr>\n<tr>\n<td>M1L</td>\n<td><a href=\"/wiki/Scarborough,_Toronto\" title=\"Scarborough, Toronto\">Scarborough</a></td>\n<td><a href=\"/wiki/Oakridge,_Toronto\" title=\"Oakridge, Toronto\">Oakridge</a>\n</td></tr>\n<tr>\n<td>M2L</td>\n<td><a href=\"/wiki/North_York\" title=\"North York\">North York</a></td>\n<td><a class=\"mw-redirect\" href=\"/wiki/Silver_Hills\" title=\"Silver Hills\">Silver Hills</a>\n</td></tr>\n<tr>\n<td>M2L</td>\n<td><a href=\"/wiki/North_York\" title=\"North York\">North York</a></td>\n<td><a href=\"/wiki/York_Mills\" title=\"York Mills\">York Mills</a>\n</td></tr>\n<tr>\n<td>M3L</td>\n<td><a href=\"/wiki/North_York\" title=\"North York\">North York</a></td>\n<td><a href=\"/wiki/Downsview\" title=\"Downsview\">Downsview West</a>\n</td></tr>\n<tr>\n<td>M4L</td>\n<td><a href=\"/wiki/East_Toronto\" title=\"East Toronto\">East Toronto</a></td>\n<td>The Beaches West\n</td></tr>\n<tr>\n<td>M4L</td>\n<td><a href=\"/wiki/East_Toronto\" title=\"East Toronto\">East Toronto</a></td>\n<td><a class=\"mw-redirect\" href=\"/wiki/India_Bazaar\" title=\"India Bazaar\">India Bazaar</a>\n</td></tr>\n<tr>\n<td>M5L</td>\n<td><a href=\"/wiki/Downtown_Toronto\" title=\"Downtown Toronto\">Downtown Toronto</a></td>\n<td><a href=\"/wiki/Commerce_Court\" title=\"Commerce Court\">Commerce Court</a>\n</td></tr>\n<tr>\n<td>M5L</td>\n<td><a href=\"/wiki/Downtown_Toronto\" title=\"Downtown Toronto\">Downtown Toronto</a></td>\n<td>Victoria Hotel\n</td></tr>\n<tr>\n<td>M6L</td>\n<td><a href=\"/wiki/North_York\" title=\"North York\">North York</a></td>\n<td><a class=\"mw-redirect\" href=\"/wiki/Maple_Leaf_Park\" title=\"Maple Leaf Park\">Maple Leaf Park</a>\n</td></tr>\n<tr>\n<td>M6L</td>\n<td><a href=\"/wiki/North_York\" title=\"North York\">North York</a></td>\n<td>North Park\n</td></tr>\n<tr>\n<td>M6L</td>\n<td><a href=\"/wiki/North_York\" title=\"North York\">North York</a></td>\n<td>Upwood Park\n</td></tr>\n<tr>\n<td>M7L</td>\n<td>Not assigned</td>\n<td>Not assigned\n</td></tr>\n<tr>\n<td>M8L</td>\n<td>Not assigned</td>\n<td>Not assigned\n</td></tr>\n<tr>\n<td>M9L</td>\n<td><a href=\"/wiki/North_York\" title=\"North York\">North York</a></td>\n<td><a href=\"/wiki/Humber_Summit\" title=\"Humber Summit\">Humber Summit</a>\n</td></tr>\n<tr>\n<td>M1M</td>\n<td><a href=\"/wiki/Scarborough,_Toronto\" title=\"Scarborough, Toronto\">Scarborough</a></td>\n<td><a href=\"/wiki/Cliffcrest\" title=\"Cliffcrest\">Cliffcrest</a>\n</td></tr>\n<tr>\n<td>M1M</td>\n<td><a href=\"/wiki/Scarborough,_Toronto\" title=\"Scarborough, Toronto\">Scarborough</a></td>\n<td><a href=\"/wiki/Cliffside,_Toronto\" title=\"Cliffside, Toronto\">Cliffside</a>\n</td></tr>\n<tr>\n<td>M1M</td>\n<td><a href=\"/wiki/Scarborough,_Toronto\" title=\"Scarborough, Toronto\">Scarborough</a></td>\n<td>Scarborough Village West\n</td></tr>\n<tr>\n<td>M2M</td>\n<td><a href=\"/wiki/North_York\" title=\"North York\">North York</a></td>\n<td><a href=\"/wiki/Newtonbrook\" title=\"Newtonbrook\">Newtonbrook</a>\n</td></tr>\n<tr>\n<td>M2M</td>\n<td><a href=\"/wiki/North_York\" title=\"North York\">North York</a></td>\n<td><a href=\"/wiki/Willowdale,_Toronto\" title=\"Willowdale, Toronto\">Willowdale</a>\n</td></tr>\n<tr>\n<td>M3M</td>\n<td><a href=\"/wiki/North_York\" title=\"North York\">North York</a></td>\n<td>Downsview Central\n</td></tr>\n<tr>\n<td>M4M</td>\n<td><a href=\"/wiki/East_Toronto\" title=\"East Toronto\">East Toronto</a></td>\n<td>Studio District\n</td></tr>\n<tr>\n<td>M5M</td>\n<td><a href=\"/wiki/North_York\" title=\"North York\">North York</a></td>\n<td><a href=\"/wiki/Bedford_Park,_Toronto\" title=\"Bedford Park, Toronto\">Bedford Park</a>\n</td></tr>\n<tr>\n<td>M5M</td>\n<td><a href=\"/wiki/North_York\" title=\"North York\">North York</a></td>\n<td>Lawrence Manor East\n</td></tr>\n<tr>\n<td>M6M</td>\n<td><a href=\"/wiki/York\" title=\"York\">York</a></td>\n<td>Del Ray\n</td></tr>\n<tr>\n<td>M6M</td>\n<td><a href=\"/wiki/York\" title=\"York\">York</a></td>\n<td><a class=\"mw-redirect\" href=\"/wiki/Keelesdale\" title=\"Keelesdale\">Keelesdale</a>\n</td></tr>\n<tr>\n<td>M6M</td>\n<td><a href=\"/wiki/York\" title=\"York\">York</a></td>\n<td><a href=\"/wiki/Mount_Dennis\" title=\"Mount Dennis\">Mount Dennis</a>\n</td></tr>\n<tr>\n<td>M6M</td>\n<td><a href=\"/wiki/York\" title=\"York\">York</a></td>\n<td><a href=\"/wiki/Silverthorn,_Toronto\" title=\"Silverthorn, Toronto\">Silverthorn</a>\n</td></tr>\n<tr>\n<td>M7M</td>\n<td>Not assigned</td>\n<td>Not assigned\n</td></tr>\n<tr>\n<td>M8M</td>\n<td>Not assigned</td>\n<td>Not assigned\n</td></tr>\n<tr>\n<td>M9M</td>\n<td><a href=\"/wiki/North_York\" title=\"North York\">North York</a></td>\n<td><a class=\"mw-redirect\" href=\"/wiki/Emery,_Toronto\" title=\"Emery, Toronto\">Emery</a>\n</td></tr>\n<tr>\n<td>M9M</td>\n<td><a href=\"/wiki/North_York\" title=\"North York\">North York</a></td>\n<td><a class=\"mw-redirect\" href=\"/wiki/Humberlea\" title=\"Humberlea\">Humberlea</a>\n</td></tr>\n<tr>\n<td>M1N</td>\n<td><a href=\"/wiki/Scarborough,_Toronto\" title=\"Scarborough, Toronto\">Scarborough</a></td>\n<td><a href=\"/wiki/Birch_Cliff\" title=\"Birch Cliff\">Birch Cliff</a>\n</td></tr>\n<tr>\n<td>M1N</td>\n<td><a href=\"/wiki/Scarborough,_Toronto\" title=\"Scarborough, Toronto\">Scarborough</a></td>\n<td>Cliffside West\n</td></tr>\n<tr>\n<td>M2N</td>\n<td><a href=\"/wiki/North_York\" title=\"North York\">North York</a></td>\n<td>Willowdale South\n</td></tr>\n<tr>\n<td>M3N</td>\n<td><a href=\"/wiki/North_York\" title=\"North York\">North York</a></td>\n<td>Downsview Northwest\n</td></tr>\n<tr>\n<td>M4N</td>\n<td><a class=\"mw-redirect\" href=\"/wiki/Central_Toronto\" title=\"Central Toronto\">Central Toronto</a></td>\n<td><a href=\"/wiki/Lawrence_Park,_Toronto\" title=\"Lawrence Park, Toronto\">Lawrence Park</a>\n</td></tr>\n<tr>\n<td>M5N</td>\n<td><a class=\"mw-redirect\" href=\"/wiki/Central_Toronto\" title=\"Central Toronto\">Central Toronto</a></td>\n<td>Roselawn\n</td></tr>\n<tr>\n<td>M6N</td>\n<td><a href=\"/wiki/York\" title=\"York\">York</a></td>\n<td>The Junction North\n</td></tr>\n<tr>\n<td>M6N</td>\n<td><a href=\"/wiki/York\" title=\"York\">York</a></td>\n<td>Runnymede\n</td></tr>\n<tr>\n<td>M7N</td>\n<td>Not assigned</td>\n<td>Not assigned\n</td></tr>\n<tr>\n<td>M8N</td>\n<td>Not assigned</td>\n<td>Not assigned\n</td></tr>\n<tr>\n<td>M9N</td>\n<td><a href=\"/wiki/York\" title=\"York\">York</a></td>\n<td><a href=\"/wiki/Weston,_Toronto\" title=\"Weston, Toronto\">Weston</a>\n</td></tr>\n<tr>\n<td>M1P</td>\n<td><a href=\"/wiki/Scarborough,_Toronto\" title=\"Scarborough, Toronto\">Scarborough</a></td>\n<td><a href=\"/wiki/Dorset_Park\" title=\"Dorset Park\">Dorset Park</a>\n</td></tr>\n<tr>\n<td>M1P</td>\n<td><a href=\"/wiki/Scarborough,_Toronto\" title=\"Scarborough, Toronto\">Scarborough</a></td>\n<td><a href=\"/wiki/Scarborough_Town_Centre\" title=\"Scarborough Town Centre\">Scarborough Town Centre</a>\n</td></tr>\n<tr>\n<td>M1P</td>\n<td><a href=\"/wiki/Scarborough,_Toronto\" title=\"Scarborough, Toronto\">Scarborough</a></td>\n<td><a class=\"mw-redirect\" href=\"/wiki/Wexford_Heights\" title=\"Wexford Heights\">Wexford Heights</a>\n</td></tr>\n<tr>\n<td>M2P</td>\n<td><a href=\"/wiki/North_York\" title=\"North York\">North York</a></td>\n<td>York Mills West\n</td></tr>\n<tr>\n<td>M3P</td>\n<td>Not assigned</td>\n<td>Not assigned\n</td></tr>\n<tr>\n<td>M4P</td>\n<td><a class=\"mw-redirect\" href=\"/wiki/Central_Toronto\" title=\"Central Toronto\">Central Toronto</a></td>\n<td>Davisville North\n</td></tr>\n<tr>\n<td>M5P</td>\n<td><a class=\"mw-redirect\" href=\"/wiki/Central_Toronto\" title=\"Central Toronto\">Central Toronto</a></td>\n<td><a class=\"mw-redirect\" href=\"/wiki/Forest_Hill_North\" title=\"Forest Hill North\">Forest Hill North</a>\n</td></tr>\n<tr>\n<td>M5P</td>\n<td><a class=\"mw-redirect\" href=\"/wiki/Central_Toronto\" title=\"Central Toronto\">Central Toronto</a></td>\n<td>Forest Hill West\n</td></tr>\n<tr>\n<td>M6P</td>\n<td><a href=\"/wiki/West_Toronto\" title=\"West Toronto\">West Toronto</a></td>\n<td><a href=\"/wiki/High_Park\" title=\"High Park\">High Park</a>\n</td></tr>\n<tr>\n<td>M6P</td>\n<td><a href=\"/wiki/West_Toronto\" title=\"West Toronto\">West Toronto</a></td>\n<td>The Junction South\n</td></tr>\n<tr>\n<td>M7P</td>\n<td>Not assigned</td>\n<td>Not assigned\n</td></tr>\n<tr>\n<td>M8P</td>\n<td>Not assigned</td>\n<td>Not assigned\n</td></tr>\n<tr>\n<td>M9P</td>\n<td><a href=\"/wiki/Etobicoke\" title=\"Etobicoke\">Etobicoke</a></td>\n<td><a class=\"mw-redirect\" href=\"/wiki/Westmount\" title=\"Westmount\">Westmount</a>\n</td></tr>\n<tr>\n<td>M1R</td>\n<td><a href=\"/wiki/Scarborough,_Toronto\" title=\"Scarborough, Toronto\">Scarborough</a></td>\n<td><a href=\"/wiki/Maryvale,_Toronto\" title=\"Maryvale, Toronto\">Maryvale</a>\n</td></tr>\n<tr>\n<td>M1R</td>\n<td><a href=\"/wiki/Scarborough,_Toronto\" title=\"Scarborough, Toronto\">Scarborough</a></td>\n<td><a href=\"/wiki/Wexford\" title=\"Wexford\">Wexford</a>\n</td></tr>\n<tr>\n<td>M2R</td>\n<td><a href=\"/wiki/North_York\" title=\"North York\">North York</a></td>\n<td><a class=\"mw-redirect\" href=\"/wiki/Willowdale_West\" title=\"Willowdale West\">Willowdale West</a>\n</td></tr>\n<tr>\n<td>M3R</td>\n<td>Not assigned</td>\n<td>Not assigned\n</td></tr>\n<tr>\n<td>M4R</td>\n<td><a class=\"mw-redirect\" href=\"/wiki/Central_Toronto\" title=\"Central Toronto\">Central Toronto</a></td>\n<td>North Toronto West\n</td></tr>\n<tr>\n<td>M5R</td>\n<td><a class=\"mw-redirect\" href=\"/wiki/Central_Toronto\" title=\"Central Toronto\">Central Toronto</a></td>\n<td><a href=\"/wiki/The_Annex\" title=\"The Annex\">The Annex</a>\n</td></tr>\n<tr>\n<td>M5R</td>\n<td><a class=\"mw-redirect\" href=\"/wiki/Central_Toronto\" title=\"Central Toronto\">Central Toronto</a></td>\n<td>North Midtown\n</td></tr>\n<tr>\n<td>M5R</td>\n<td><a class=\"mw-redirect\" href=\"/wiki/Central_Toronto\" title=\"Central Toronto\">Central Toronto</a></td>\n<td><a href=\"/wiki/Yorkville,_Toronto\" title=\"Yorkville, Toronto\">Yorkville</a>\n</td></tr>\n<tr>\n<td>M6R</td>\n<td><a href=\"/wiki/West_Toronto\" title=\"West Toronto\">West Toronto</a></td>\n<td><a href=\"/wiki/Parkdale,_Toronto\" title=\"Parkdale, Toronto\">Parkdale</a>\n</td></tr>\n<tr>\n<td>M6R</td>\n<td><a href=\"/wiki/West_Toronto\" title=\"West Toronto\">West Toronto</a></td>\n<td><a href=\"/wiki/Roncesvalles\" title=\"Roncesvalles\">Roncesvalles</a>\n</td></tr>\n<tr>\n<td>M7R</td>\n<td>Mississauga</td>\n<td>Canada Post Gateway Processing Centre\n</td></tr>\n<tr>\n<td>M8R</td>\n<td>Not assigned</td>\n<td>Not assigned\n</td></tr>\n<tr>\n<td>M9R</td>\n<td><a href=\"/wiki/Etobicoke\" title=\"Etobicoke\">Etobicoke</a></td>\n<td><a href=\"/wiki/Kingsview_Village\" title=\"Kingsview Village\">Kingsview Village</a>\n</td></tr>\n<tr>\n<td>M9R</td>\n<td><a href=\"/wiki/Etobicoke\" title=\"Etobicoke\">Etobicoke</a></td>\n<td>Martin Grove Gardens\n</td></tr>\n<tr>\n<td>M9R</td>\n<td><a href=\"/wiki/Etobicoke\" title=\"Etobicoke\">Etobicoke</a></td>\n<td>Richview Gardens\n</td></tr>\n<tr>\n<td>M9R</td>\n<td><a href=\"/wiki/Etobicoke\" title=\"Etobicoke\">Etobicoke</a></td>\n<td>St. Phillips\n</td></tr>\n<tr>\n<td>M1S</td>\n<td><a href=\"/wiki/Scarborough,_Toronto\" title=\"Scarborough, Toronto\">Scarborough</a></td>\n<td><a href=\"/wiki/Agincourt,_Toronto\" title=\"Agincourt, Toronto\">Agincourt</a>\n</td></tr>\n<tr>\n<td>M2S</td>\n<td>Not assigned</td>\n<td>Not assigned\n</td></tr>\n<tr>\n<td>M3S</td>\n<td>Not assigned</td>\n<td>Not assigned\n</td></tr>\n<tr>\n<td>M4S</td>\n<td><a class=\"mw-redirect\" href=\"/wiki/Central_Toronto\" title=\"Central Toronto\">Central Toronto</a></td>\n<td>Davisville\n</td></tr>\n<tr>\n<td>M5S</td>\n<td><a href=\"/wiki/Downtown_Toronto\" title=\"Downtown Toronto\">Downtown Toronto</a></td>\n<td>Harbord\n</td></tr>\n<tr>\n<td>M5S</td>\n<td><a href=\"/wiki/Downtown_Toronto\" title=\"Downtown Toronto\">Downtown Toronto</a></td>\n<td><a href=\"/wiki/University_of_Toronto\" title=\"University of Toronto\">University of Toronto</a>\n</td></tr>\n<tr>\n<td>M6S</td>\n<td><a href=\"/wiki/West_Toronto\" title=\"West Toronto\">West Toronto</a></td>\n<td><a href=\"/wiki/Runnymede\" title=\"Runnymede\">Runnymede</a>\n</td></tr>\n<tr>\n<td>M6S</td>\n<td><a href=\"/wiki/West_Toronto\" title=\"West Toronto\">West Toronto</a></td>\n<td><a href=\"/wiki/Swansea\" title=\"Swansea\">Swansea</a>\n</td></tr>\n<tr>\n<td>M7S</td>\n<td>Not assigned</td>\n<td>Not assigned\n</td></tr>\n<tr>\n<td>M8S</td>\n<td>Not assigned</td>\n<td>Not assigned\n</td></tr>\n<tr>\n<td>M9S</td>\n<td>Not assigned</td>\n<td>Not assigned\n</td></tr>\n<tr>\n<td>M1T</td>\n<td><a href=\"/wiki/Scarborough,_Toronto\" title=\"Scarborough, Toronto\">Scarborough</a></td>\n<td>Clarks Corners\n</td></tr>\n<tr>\n<td>M1T</td>\n<td><a href=\"/wiki/Scarborough,_Toronto\" title=\"Scarborough, Toronto\">Scarborough</a></td>\n<td>Sullivan\n</td></tr>\n<tr>\n<td>M1T</td>\n<td><a href=\"/wiki/Scarborough,_Toronto\" title=\"Scarborough, Toronto\">Scarborough</a></td>\n<td><a href=\"/wiki/Tam_O%27Shanter_%E2%80%93_Sullivan\" title=\"Tam O'Shanter \u2013 Sullivan\">Tam O'Shanter</a>\n</td></tr>\n<tr>\n<td>M2T</td>\n<td>Not assigned</td>\n<td>Not assigned\n</td></tr>\n<tr>\n<td>M3T</td>\n<td>Not assigned</td>\n<td>Not assigned\n</td></tr>\n<tr>\n<td>M4T</td>\n<td><a class=\"mw-redirect\" href=\"/wiki/Central_Toronto\" title=\"Central Toronto\">Central Toronto</a></td>\n<td><a href=\"/wiki/Moore_Park,_Toronto\" title=\"Moore Park, Toronto\">Moore Park</a>\n</td></tr>\n<tr>\n<td>M4T</td>\n<td><a class=\"mw-redirect\" href=\"/wiki/Central_Toronto\" title=\"Central Toronto\">Central Toronto</a></td>\n<td>Summerhill East\n</td></tr>\n<tr>\n<td>M5T</td>\n<td><a href=\"/wiki/Downtown_Toronto\" title=\"Downtown Toronto\">Downtown Toronto</a></td>\n<td><a href=\"/wiki/Chinatown\" title=\"Chinatown\">Chinatown</a>\n</td></tr>\n<tr>\n<td>M5T</td>\n<td><a href=\"/wiki/Downtown_Toronto\" title=\"Downtown Toronto\">Downtown Toronto</a></td>\n<td><a href=\"/wiki/Grange_Park_(Toronto)\" title=\"Grange Park (Toronto)\">Grange Park</a>\n</td></tr>\n<tr>\n<td>M5T</td>\n<td><a href=\"/wiki/Downtown_Toronto\" title=\"Downtown Toronto\">Downtown Toronto</a></td>\n<td><a href=\"/wiki/Kensington_Market\" title=\"Kensington Market\">Kensington Market</a>\n</td></tr>\n<tr>\n<td>M6T</td>\n<td>Not assigned</td>\n<td>Not assigned\n</td></tr>\n<tr>\n<td>M7T</td>\n<td>Not assigned</td>\n<td>Not assigned\n</td></tr>\n<tr>\n<td>M8T</td>\n<td>Not assigned</td>\n<td>Not assigned\n</td></tr>\n<tr>\n<td>M9T</td>\n<td>Not assigned</td>\n<td>Not assigned\n</td></tr>\n<tr>\n<td>M1V</td>\n<td><a href=\"/wiki/Scarborough,_Toronto\" title=\"Scarborough, Toronto\">Scarborough</a></td>\n<td><a class=\"mw-redirect\" href=\"/wiki/Agincourt_North\" title=\"Agincourt North\">Agincourt North</a>\n</td></tr>\n<tr>\n<td>M1V</td>\n<td><a href=\"/wiki/Scarborough,_Toronto\" title=\"Scarborough, Toronto\">Scarborough</a></td>\n<td>L'Amoreaux East\n</td></tr>\n<tr>\n<td>M1V</td>\n<td><a href=\"/wiki/Scarborough,_Toronto\" title=\"Scarborough, Toronto\">Scarborough</a></td>\n<td><a href=\"/wiki/Milliken,_Ontario\" title=\"Milliken, Ontario\">Milliken</a>\n</td></tr>\n<tr>\n<td>M1V</td>\n<td><a href=\"/wiki/Scarborough,_Toronto\" title=\"Scarborough, Toronto\">Scarborough</a></td>\n<td>Steeles East\n</td></tr>\n<tr>\n<td>M2V</td>\n<td>Not assigned</td>\n<td>Not assigned\n</td></tr>\n<tr>\n<td>M3V</td>\n<td>Not assigned</td>\n<td>Not assigned\n</td></tr>\n<tr>\n<td>M4V</td>\n<td><a class=\"mw-redirect\" href=\"/wiki/Central_Toronto\" title=\"Central Toronto\">Central Toronto</a></td>\n<td><a href=\"/wiki/Deer_Park,_Toronto\" title=\"Deer Park, Toronto\">Deer Park</a>\n</td></tr>\n<tr>\n<td>M4V</td>\n<td><a class=\"mw-redirect\" href=\"/wiki/Central_Toronto\" title=\"Central Toronto\">Central Toronto</a></td>\n<td>Forest Hill SE\n</td></tr>\n<tr>\n<td>M4V</td>\n<td><a class=\"mw-redirect\" href=\"/wiki/Central_Toronto\" title=\"Central Toronto\">Central Toronto</a></td>\n<td><a class=\"mw-redirect\" href=\"/wiki/Rathnelly\" title=\"Rathnelly\">Rathnelly</a>\n</td></tr>\n<tr>\n<td>M4V</td>\n<td><a class=\"mw-redirect\" href=\"/wiki/Central_Toronto\" title=\"Central Toronto\">Central Toronto</a></td>\n<td><a href=\"/wiki/South_Hill,_Toronto\" title=\"South Hill, Toronto\">South Hill</a>\n</td></tr>\n<tr>\n<td>M4V</td>\n<td><a class=\"mw-redirect\" href=\"/wiki/Central_Toronto\" title=\"Central Toronto\">Central Toronto</a></td>\n<td>Summerhill West\n</td></tr>\n<tr>\n<td>M5V</td>\n<td><a href=\"/wiki/Downtown_Toronto\" title=\"Downtown Toronto\">Downtown Toronto</a></td>\n<td><a href=\"/wiki/CN_Tower\" title=\"CN Tower\">CN Tower</a>\n</td></tr>\n<tr>\n<td>M5V</td>\n<td><a href=\"/wiki/Downtown_Toronto\" title=\"Downtown Toronto\">Downtown Toronto</a></td>\n<td>Bathurst Quay\n</td></tr>\n<tr>\n<td>M5V</td>\n<td><a href=\"/wiki/Downtown_Toronto\" title=\"Downtown Toronto\">Downtown Toronto</a></td>\n<td>Island airport\n</td></tr>\n<tr>\n<td>M5V</td>\n<td><a href=\"/wiki/Downtown_Toronto\" title=\"Downtown Toronto\">Downtown Toronto</a></td>\n<td>Harbourfront West\n</td></tr>\n<tr>\n<td>M5V</td>\n<td><a href=\"/wiki/Downtown_Toronto\" title=\"Downtown Toronto\">Downtown Toronto</a></td>\n<td><a class=\"mw-redirect\" href=\"/wiki/King_and_Spadina\" title=\"King and Spadina\">King and Spadina</a>\n</td></tr>\n<tr>\n<td>M5V</td>\n<td><a href=\"/wiki/Downtown_Toronto\" title=\"Downtown Toronto\">Downtown Toronto</a></td>\n<td><a href=\"/wiki/Railway_Lands\" title=\"Railway Lands\">Railway Lands</a>\n</td></tr>\n<tr>\n<td>M5V</td>\n<td><a href=\"/wiki/Downtown_Toronto\" title=\"Downtown Toronto\">Downtown Toronto</a></td>\n<td><a class=\"mw-redirect\" href=\"/wiki/South_Niagara\" title=\"South Niagara\">South Niagara</a>\n</td></tr>\n<tr>\n<td>M6V</td>\n<td>Not assigned</td>\n<td>Not assigned\n</td></tr>\n<tr>\n<td>M7V</td>\n<td>Not assigned</td>\n<td>Not assigned\n</td></tr>\n<tr>\n<td>M8V</td>\n<td><a href=\"/wiki/Etobicoke\" title=\"Etobicoke\">Etobicoke</a></td>\n<td>Humber Bay Shores\n</td></tr>\n<tr>\n<td>M8V</td>\n<td><a href=\"/wiki/Etobicoke\" title=\"Etobicoke\">Etobicoke</a></td>\n<td>Mimico South\n</td></tr>\n<tr>\n<td>M8V</td>\n<td><a href=\"/wiki/Etobicoke\" title=\"Etobicoke\">Etobicoke</a></td>\n<td><a href=\"/wiki/New_Toronto\" title=\"New Toronto\">New Toronto</a>\n</td></tr>\n<tr>\n<td>M9V</td>\n<td><a href=\"/wiki/Etobicoke\" title=\"Etobicoke\">Etobicoke</a></td>\n<td>Albion Gardens\n</td></tr>\n<tr>\n<td>M9V</td>\n<td><a href=\"/wiki/Etobicoke\" title=\"Etobicoke\">Etobicoke</a></td>\n<td><a class=\"mw-redirect\" href=\"/wiki/Beaumond_Heights\" title=\"Beaumond Heights\">Beaumond Heights</a>\n</td></tr>\n<tr>\n<td>M9V</td>\n<td><a href=\"/wiki/Etobicoke\" title=\"Etobicoke\">Etobicoke</a></td>\n<td>Humbergate\n</td></tr>\n<tr>\n<td>M9V</td>\n<td><a href=\"/wiki/Etobicoke\" title=\"Etobicoke\">Etobicoke</a></td>\n<td><a class=\"mw-redirect\" href=\"/wiki/Mount_Olive-Silverstone-Jamestown\" title=\"Mount Olive-Silverstone-Jamestown\">Jamestown</a>\n</td></tr>\n<tr>\n<td>M9V</td>\n<td><a href=\"/wiki/Etobicoke\" title=\"Etobicoke\">Etobicoke</a></td>\n<td><a class=\"mw-redirect\" href=\"/wiki/Mount_Olive-Silverstone-Jamestown\" title=\"Mount Olive-Silverstone-Jamestown\">Mount Olive</a>\n</td></tr>\n<tr>\n<td>M9V</td>\n<td><a href=\"/wiki/Etobicoke\" title=\"Etobicoke\">Etobicoke</a></td>\n<td><a href=\"/wiki/Silverstone\" title=\"Silverstone\">Silverstone</a>\n</td></tr>\n<tr>\n<td>M9V</td>\n<td><a href=\"/wiki/Etobicoke\" title=\"Etobicoke\">Etobicoke</a></td>\n<td><a class=\"mw-redirect\" href=\"/wiki/South_Steeles\" title=\"South Steeles\">South Steeles</a>\n</td></tr>\n<tr>\n<td>M9V</td>\n<td><a href=\"/wiki/Etobicoke\" title=\"Etobicoke\">Etobicoke</a></td>\n<td><a href=\"/wiki/Thistletown\" title=\"Thistletown\">Thistletown</a>\n</td></tr>\n<tr>\n<td>M1W</td>\n<td><a href=\"/wiki/Scarborough,_Toronto\" title=\"Scarborough, Toronto\">Scarborough</a></td>\n<td>L'Amoreaux West\n</td></tr>\n<tr>\n<td>M1W</td>\n<td><a href=\"/wiki/Scarborough,_Toronto\" title=\"Scarborough, Toronto\">Scarborough</a></td>\n<td><a class=\"mw-redirect\" href=\"/wiki/Steeles_West\" title=\"Steeles West\">Steeles West</a>\n</td></tr>\n<tr>\n<td>M2W</td>\n<td>Not assigned</td>\n<td>Not assigned\n</td></tr>\n<tr>\n<td>M3W</td>\n<td>Not assigned</td>\n<td>Not assigned\n</td></tr>\n<tr>\n<td>M4W</td>\n<td><a href=\"/wiki/Downtown_Toronto\" title=\"Downtown Toronto\">Downtown Toronto</a></td>\n<td><a href=\"/wiki/Rosedale,_Toronto\" title=\"Rosedale, Toronto\">Rosedale</a>\n</td></tr>\n<tr>\n<td>M5W</td>\n<td><a href=\"/wiki/Downtown_Toronto\" title=\"Downtown Toronto\">Downtown Toronto</a></td>\n<td>Stn A PO Boxes 25 The Esplanade\n</td></tr>\n<tr>\n<td>M6W</td>\n<td>Not assigned</td>\n<td>Not assigned\n</td></tr>\n<tr>\n<td>M7W</td>\n<td>Not assigned</td>\n<td>Not assigned\n</td></tr>\n<tr>\n<td>M8W</td>\n<td><a href=\"/wiki/Etobicoke\" title=\"Etobicoke\">Etobicoke</a></td>\n<td><a href=\"/wiki/Alderwood,_Toronto\" title=\"Alderwood, Toronto\">Alderwood</a>\n</td></tr>\n<tr>\n<td>M8W</td>\n<td><a href=\"/wiki/Etobicoke\" title=\"Etobicoke\">Etobicoke</a></td>\n<td><a href=\"/wiki/Long_Branch,_Toronto\" title=\"Long Branch, Toronto\">Long Branch</a>\n</td></tr>\n<tr>\n<td>M9W</td>\n<td><a href=\"/wiki/Etobicoke\" title=\"Etobicoke\">Etobicoke</a></td>\n<td><a class=\"mw-redirect\" href=\"/wiki/Northwest\" title=\"Northwest\">Northwest</a>\n</td></tr>\n<tr>\n<td>M1X</td>\n<td><a href=\"/wiki/Scarborough,_Toronto\" title=\"Scarborough, Toronto\">Scarborough</a></td>\n<td><a class=\"mw-redirect\" href=\"/wiki/Upper_Rouge\" title=\"Upper Rouge\">Upper Rouge</a>\n</td></tr>\n<tr>\n<td>M2X</td>\n<td>Not assigned</td>\n<td>Not assigned\n</td></tr>\n<tr>\n<td>M3X</td>\n<td>Not assigned</td>\n<td>Not assigned\n</td></tr>\n<tr>\n<td>M4X</td>\n<td><a href=\"/wiki/Downtown_Toronto\" title=\"Downtown Toronto\">Downtown Toronto</a></td>\n<td><a href=\"/wiki/Cabbagetown,_Toronto\" title=\"Cabbagetown, Toronto\">Cabbagetown</a>\n</td></tr>\n<tr>\n<td>M4X</td>\n<td><a href=\"/wiki/Downtown_Toronto\" title=\"Downtown Toronto\">Downtown Toronto</a></td>\n<td><a href=\"/wiki/St._James_Town\" title=\"St. James Town\">St. James Town</a>\n</td></tr>\n<tr>\n<td>M5X</td>\n<td><a href=\"/wiki/Downtown_Toronto\" title=\"Downtown Toronto\">Downtown Toronto</a></td>\n<td><a href=\"/wiki/First_Canadian_Place\" title=\"First Canadian Place\">First Canadian Place</a>\n</td></tr>\n<tr>\n<td>M5X</td>\n<td><a href=\"/wiki/Downtown_Toronto\" title=\"Downtown Toronto\">Downtown Toronto</a></td>\n<td><a href=\"/wiki/Underground_city\" title=\"Underground city\">Underground city</a>\n</td></tr>\n<tr>\n<td>M6X</td>\n<td>Not assigned</td>\n<td>Not assigned\n</td></tr>\n<tr>\n<td>M7X</td>\n<td>Not assigned</td>\n<td>Not assigned\n</td></tr>\n<tr>\n<td>M8X</td>\n<td><a href=\"/wiki/Etobicoke\" title=\"Etobicoke\">Etobicoke</a></td>\n<td><a href=\"/wiki/The_Kingsway\" title=\"The Kingsway\">The Kingsway</a>\n</td></tr>\n<tr>\n<td>M8X</td>\n<td><a href=\"/wiki/Etobicoke\" title=\"Etobicoke\">Etobicoke</a></td>\n<td>Montgomery Road\n</td></tr>\n<tr>\n<td>M8X</td>\n<td><a href=\"/wiki/Etobicoke\" title=\"Etobicoke\">Etobicoke</a></td>\n<td>Old Mill North\n</td></tr>\n<tr>\n<td>M9X</td>\n<td>Not assigned</td>\n<td>Not assigned\n</td></tr>\n<tr>\n<td>M1Y</td>\n<td>Not assigned</td>\n<td>Not assigned\n</td></tr>\n<tr>\n<td>M2Y</td>\n<td>Not assigned</td>\n<td>Not assigned\n</td></tr>\n<tr>\n<td>M3Y</td>\n<td>Not assigned</td>\n<td>Not assigned\n</td></tr>\n<tr>\n<td>M4Y</td>\n<td><a href=\"/wiki/Downtown_Toronto\" title=\"Downtown Toronto\">Downtown Toronto</a></td>\n<td><a href=\"/wiki/Church_and_Wellesley\" title=\"Church and Wellesley\">Church and Wellesley</a>\n</td></tr>\n<tr>\n<td>M5Y</td>\n<td>Not assigned</td>\n<td>Not assigned\n</td></tr>\n<tr>\n<td>M6Y</td>\n<td>Not assigned</td>\n<td>Not assigned\n</td></tr>\n<tr>\n<td>M7Y</td>\n<td><a href=\"/wiki/East_Toronto\" title=\"East Toronto\">East Toronto</a></td>\n<td>Business Reply Mail Processing Centre 969 Eastern\n</td></tr>\n<tr>\n<td>M8Y</td>\n<td><a href=\"/wiki/Etobicoke\" title=\"Etobicoke\">Etobicoke</a></td>\n<td><a href=\"/wiki/Humber_Bay\" title=\"Humber Bay\">Humber Bay</a>\n</td></tr>\n<tr>\n<td>M8Y</td>\n<td><a href=\"/wiki/Etobicoke\" title=\"Etobicoke\">Etobicoke</a></td>\n<td><a href=\"/wiki/Kingsmills_Park\" title=\"Kingsmills Park\">King's Mill Park</a>\n</td></tr>\n<tr>\n<td>M8Y</td>\n<td><a href=\"/wiki/Etobicoke\" title=\"Etobicoke\">Etobicoke</a></td>\n<td>Kingsway Park South East\n</td></tr>\n<tr>\n<td>M8Y</td>\n<td><a href=\"/wiki/Etobicoke\" title=\"Etobicoke\">Etobicoke</a></td>\n<td><a href=\"/wiki/Mimico\" title=\"Mimico\">Mimico NE</a>\n</td></tr>\n<tr>\n<td>M8Y</td>\n<td><a href=\"/wiki/Etobicoke\" title=\"Etobicoke\">Etobicoke</a></td>\n<td><a href=\"/wiki/Old_Mill,_Toronto\" title=\"Old Mill, Toronto\">Old Mill South</a>\n</td></tr>\n<tr>\n<td>M8Y</td>\n<td><a href=\"/wiki/Etobicoke\" title=\"Etobicoke\">Etobicoke</a></td>\n<td><a href=\"/wiki/The_Queensway\" title=\"The Queensway\">The Queensway East</a>\n</td></tr>\n<tr>\n<td>M8Y</td>\n<td><a href=\"/wiki/Etobicoke\" title=\"Etobicoke\">Etobicoke</a></td>\n<td><a class=\"mw-redirect\" href=\"/wiki/Fairmont_Royal_York_Hotel\" title=\"Fairmont Royal York Hotel\">Royal York South East</a>\n</td></tr>\n<tr>\n<td>M8Y</td>\n<td><a href=\"/wiki/Etobicoke\" title=\"Etobicoke\">Etobicoke</a></td>\n<td><a class=\"mw-redirect\" href=\"/wiki/Sunnylea\" title=\"Sunnylea\">Sunnylea</a>\n</td></tr>\n<tr>\n<td>M9Y</td>\n<td>Not assigned</td>\n<td>Not assigned\n</td></tr>\n<tr>\n<td>M1Z</td>\n<td>Not assigned</td>\n<td>Not assigned\n</td></tr>\n<tr>\n<td>M2Z</td>\n<td>Not assigned</td>\n<td>Not assigned\n</td></tr>\n<tr>\n<td>M3Z</td>\n<td>Not assigned</td>\n<td>Not assigned\n</td></tr>\n<tr>\n<td>M4Z</td>\n<td>Not assigned</td>\n<td>Not assigned\n</td></tr>\n<tr>\n<td>M5Z</td>\n<td>Not assigned</td>\n<td>Not assigned\n</td></tr>\n<tr>\n<td>M6Z</td>\n<td>Not assigned</td>\n<td>Not assigned\n</td></tr>\n<tr>\n<td>M7Z</td>\n<td>Not assigned</td>\n<td>Not assigned\n</td></tr>\n<tr>\n<td>M8Z</td>\n<td><a href=\"/wiki/Etobicoke\" title=\"Etobicoke\">Etobicoke</a></td>\n<td>Kingsway Park South West\n</td></tr>\n<tr>\n<td>M8Z</td>\n<td><a href=\"/wiki/Etobicoke\" title=\"Etobicoke\">Etobicoke</a></td>\n<td><a href=\"/wiki/Mimico\" title=\"Mimico\">Mimico NW</a>\n</td></tr>\n<tr>\n<td>M8Z</td>\n<td><a href=\"/wiki/Etobicoke\" title=\"Etobicoke\">Etobicoke</a></td>\n<td><a href=\"/wiki/The_Queensway\" title=\"The Queensway\">The Queensway West</a>\n</td></tr>\n<tr>\n<td>M8Z</td>\n<td><a href=\"/wiki/Etobicoke\" title=\"Etobicoke\">Etobicoke</a></td>\n<td>Royal York South West\n</td></tr>\n<tr>\n<td>M8Z</td>\n<td><a href=\"/wiki/Etobicoke\" title=\"Etobicoke\">Etobicoke</a></td>\n<td><a href=\"/wiki/Bloor\" title=\"Bloor\">South of Bloor</a>\n</td></tr>\n<tr>\n<td>M9Z</td>\n<td>Not assigned</td>\n<td>Not assigned\n</td></tr>\n</tbody></table>\n"
                }
            ], 
            "source": "# extract the table\nmatch = soup.find('table',class_='wikitable sortable')\nprint(match)"
        }, 
        {
            "source": "**Step 3: Extract the headers from the table.**", 
            "cell_type": "markdown", 
            "metadata": {}
        }, 
        {
            "execution_count": 9, 
            "cell_type": "code", 
            "metadata": {}, 
            "outputs": [
                {
                    "execution_count": 9, 
                    "metadata": {}, 
                    "data": {
                        "text/plain": "['Postcode', 'Borough', 'Neighbourhood']"
                    }, 
                    "output_type": "execute_result"
                }
            ], 
            "source": "# fetch columns names\nheaders = soup.find('table',class_='wikitable sortable').find('tbody').find_all('th')\ncolumns = [head.text.strip() for head in headers]\ncolumns"
        }, 
        {
            "execution_count": 10, 
            "cell_type": "code", 
            "metadata": {}, 
            "outputs": [], 
            "source": "# create new dataframe used to store the table data\nzip_canada = pd.DataFrame(columns=['PostalCode', 'Borough', 'Neighborhood'])"
        }, 
        {
            "source": "**Step 4: Extract the content of the table.**", 
            "cell_type": "markdown", 
            "metadata": {}
        }, 
        {
            "execution_count": 11, 
            "cell_type": "code", 
            "metadata": {}, 
            "outputs": [
                {
                    "execution_count": 11, 
                    "metadata": {}, 
                    "data": {
                        "text/html": "<div>\n<style scoped>\n    .dataframe tbody tr th:only-of-type {\n        vertical-align: middle;\n    }\n\n    .dataframe tbody tr th {\n        vertical-align: top;\n    }\n\n    .dataframe thead th {\n        text-align: right;\n    }\n</style>\n<table border=\"1\" class=\"dataframe\">\n  <thead>\n    <tr style=\"text-align: right;\">\n      <th></th>\n      <th>PostalCode</th>\n      <th>Borough</th>\n      <th>Neighborhood</th>\n    </tr>\n  </thead>\n  <tbody>\n    <tr>\n      <th>0</th>\n      <td>M1A</td>\n      <td>Not assigned</td>\n      <td>Not assigned</td>\n    </tr>\n    <tr>\n      <th>1</th>\n      <td>M2A</td>\n      <td>Not assigned</td>\n      <td>Not assigned</td>\n    </tr>\n    <tr>\n      <th>2</th>\n      <td>M3A</td>\n      <td>North York</td>\n      <td>Parkwoods</td>\n    </tr>\n    <tr>\n      <th>3</th>\n      <td>M4A</td>\n      <td>North York</td>\n      <td>Victoria Village</td>\n    </tr>\n    <tr>\n      <th>4</th>\n      <td>M5A</td>\n      <td>Downtown Toronto</td>\n      <td>Harbourfront</td>\n    </tr>\n    <tr>\n      <th>5</th>\n      <td>M5A</td>\n      <td>Downtown Toronto</td>\n      <td>Regent Park</td>\n    </tr>\n    <tr>\n      <th>6</th>\n      <td>M6A</td>\n      <td>North York</td>\n      <td>Lawrence Heights</td>\n    </tr>\n    <tr>\n      <th>7</th>\n      <td>M6A</td>\n      <td>North York</td>\n      <td>Lawrence Manor</td>\n    </tr>\n    <tr>\n      <th>8</th>\n      <td>M7A</td>\n      <td>Queen's Park</td>\n      <td>Not assigned</td>\n    </tr>\n    <tr>\n      <th>9</th>\n      <td>M8A</td>\n      <td>Not assigned</td>\n      <td>Not assigned</td>\n    </tr>\n    <tr>\n      <th>10</th>\n      <td>M9A</td>\n      <td>Etobicoke</td>\n      <td>Islington Avenue</td>\n    </tr>\n  </tbody>\n</table>\n</div>", 
                        "text/plain": "   PostalCode           Borough      Neighborhood\n0         M1A      Not assigned      Not assigned\n1         M2A      Not assigned      Not assigned\n2         M3A        North York         Parkwoods\n3         M4A        North York  Victoria Village\n4         M5A  Downtown Toronto      Harbourfront\n5         M5A  Downtown Toronto       Regent Park\n6         M6A        North York  Lawrence Heights\n7         M6A        North York    Lawrence Manor\n8         M7A      Queen's Park      Not assigned\n9         M8A      Not assigned      Not assigned\n10        M9A         Etobicoke  Islington Avenue"
                    }, 
                    "output_type": "execute_result"
                }
            ], 
            "source": "# fetch table rows tr\ndata_rows = soup.find('table',class_='wikitable sortable').find('tbody').find_all('tr')\n\n# fetch table cells td\nfor data_row in data_rows:\n    data_split = data_row.find_all('td')\n\n    if len(data_split)>0:\n        postcode = data_split[0].text.strip()\n        borough = data_split[1].text.strip()\n        neighborhood = data_split[2].text.strip()\n        \n        zip_canada = zip_canada.append({'PostalCode':postcode,\n                                        'Borough':borough,\n                                        'Neighborhood':neighborhood},ignore_index=True)\n\nzip_canada.head(11)"
        }, 
        {
            "source": "## Data cleanup\n\nIn this section, the data is processed and invalid data is eliminated. The following steps are applied:\n1. Delete row where the Borough is defined as **\"Not assigned\"**\n2. Concatenate neighborhoods with the same PostalCode\n3. Replace unassigned Neighborhood by the Borough name\n4. We display the shape of the cleaned DataFrame", 
            "cell_type": "markdown", 
            "metadata": {}
        }, 
        {
            "source": "**Step 1: Delete row where the Borough is defined as \"Not assigned\"**", 
            "cell_type": "markdown", 
            "metadata": {}
        }, 
        {
            "execution_count": 12, 
            "cell_type": "code", 
            "metadata": {}, 
            "outputs": [
                {
                    "execution_count": 12, 
                    "metadata": {}, 
                    "data": {
                        "text/html": "<div>\n<style scoped>\n    .dataframe tbody tr th:only-of-type {\n        vertical-align: middle;\n    }\n\n    .dataframe tbody tr th {\n        vertical-align: top;\n    }\n\n    .dataframe thead th {\n        text-align: right;\n    }\n</style>\n<table border=\"1\" class=\"dataframe\">\n  <thead>\n    <tr style=\"text-align: right;\">\n      <th></th>\n      <th>PostalCode</th>\n      <th>Borough</th>\n      <th>Neighborhood</th>\n    </tr>\n  </thead>\n  <tbody>\n    <tr>\n      <th>0</th>\n      <td>M3A</td>\n      <td>North York</td>\n      <td>Parkwoods</td>\n    </tr>\n    <tr>\n      <th>1</th>\n      <td>M4A</td>\n      <td>North York</td>\n      <td>Victoria Village</td>\n    </tr>\n    <tr>\n      <th>2</th>\n      <td>M5A</td>\n      <td>Downtown Toronto</td>\n      <td>Harbourfront</td>\n    </tr>\n    <tr>\n      <th>3</th>\n      <td>M5A</td>\n      <td>Downtown Toronto</td>\n      <td>Regent Park</td>\n    </tr>\n    <tr>\n      <th>4</th>\n      <td>M6A</td>\n      <td>North York</td>\n      <td>Lawrence Heights</td>\n    </tr>\n    <tr>\n      <th>5</th>\n      <td>M6A</td>\n      <td>North York</td>\n      <td>Lawrence Manor</td>\n    </tr>\n    <tr>\n      <th>6</th>\n      <td>M7A</td>\n      <td>Queen's Park</td>\n      <td>Not assigned</td>\n    </tr>\n    <tr>\n      <th>7</th>\n      <td>M9A</td>\n      <td>Etobicoke</td>\n      <td>Islington Avenue</td>\n    </tr>\n    <tr>\n      <th>8</th>\n      <td>M1B</td>\n      <td>Scarborough</td>\n      <td>Rouge</td>\n    </tr>\n    <tr>\n      <th>9</th>\n      <td>M1B</td>\n      <td>Scarborough</td>\n      <td>Malvern</td>\n    </tr>\n  </tbody>\n</table>\n</div>", 
                        "text/plain": "  PostalCode           Borough      Neighborhood\n0        M3A        North York         Parkwoods\n1        M4A        North York  Victoria Village\n2        M5A  Downtown Toronto      Harbourfront\n3        M5A  Downtown Toronto       Regent Park\n4        M6A        North York  Lawrence Heights\n5        M6A        North York    Lawrence Manor\n6        M7A      Queen's Park      Not assigned\n7        M9A         Etobicoke  Islington Avenue\n8        M1B       Scarborough             Rouge\n9        M1B       Scarborough           Malvern"
                    }, 
                    "output_type": "execute_result"
                }
            ], 
            "source": "# Step 1\nclean_df1 = zip_canada[zip_canada['Borough']!='Not assigned'].reset_index(drop=True)\nclean_df1.head(10)"
        }, 
        {
            "source": "**Step 2: Concatenate neighborhoods with the same PostalCode**", 
            "cell_type": "markdown", 
            "metadata": {}
        }, 
        {
            "execution_count": 13, 
            "cell_type": "code", 
            "metadata": {}, 
            "outputs": [], 
            "source": "# group by PostalCode and Borough, then concatenate the Neighborhoods.\nclean_df2 = clean_df1.groupby(['PostalCode','Borough'])['Neighborhood'].apply(lambda x: ', '.join(x)).reset_index()"
        }, 
        {
            "source": "We verify that there are no longer any duplicates in the 'PostalCode' columns.", 
            "cell_type": "markdown", 
            "metadata": {}
        }, 
        {
            "execution_count": 14, 
            "cell_type": "code", 
            "metadata": {}, 
            "outputs": [
                {
                    "output_type": "stream", 
                    "name": "stdout", 
                    "text": "Checking for duplicates...\nAre there PostalCode duplicates? False\n"
                }
            ], 
            "source": "print('Checking for duplicates...')\nprint('Are there PostalCode duplicates?',~clean_df2['PostalCode'].value_counts().max()==1)"
        }, 
        {
            "execution_count": 15, 
            "cell_type": "code", 
            "metadata": {}, 
            "outputs": [
                {
                    "execution_count": 15, 
                    "metadata": {}, 
                    "data": {
                        "text/html": "<div>\n<style scoped>\n    .dataframe tbody tr th:only-of-type {\n        vertical-align: middle;\n    }\n\n    .dataframe tbody tr th {\n        vertical-align: top;\n    }\n\n    .dataframe thead th {\n        text-align: right;\n    }\n</style>\n<table border=\"1\" class=\"dataframe\">\n  <thead>\n    <tr style=\"text-align: right;\">\n      <th></th>\n      <th>PostalCode</th>\n      <th>Borough</th>\n      <th>Neighborhood</th>\n    </tr>\n  </thead>\n  <tbody>\n    <tr>\n      <th>93</th>\n      <td>M9A</td>\n      <td>Etobicoke</td>\n      <td>Islington Avenue</td>\n    </tr>\n    <tr>\n      <th>94</th>\n      <td>M9B</td>\n      <td>Etobicoke</td>\n      <td>Cloverdale, Islington, Martin Grove, Princess ...</td>\n    </tr>\n    <tr>\n      <th>95</th>\n      <td>M9C</td>\n      <td>Etobicoke</td>\n      <td>Bloordale Gardens, Eringate, Markland Wood, Ol...</td>\n    </tr>\n    <tr>\n      <th>96</th>\n      <td>M9L</td>\n      <td>North York</td>\n      <td>Humber Summit</td>\n    </tr>\n    <tr>\n      <th>97</th>\n      <td>M9M</td>\n      <td>North York</td>\n      <td>Emery, Humberlea</td>\n    </tr>\n    <tr>\n      <th>98</th>\n      <td>M9N</td>\n      <td>York</td>\n      <td>Weston</td>\n    </tr>\n    <tr>\n      <th>99</th>\n      <td>M9P</td>\n      <td>Etobicoke</td>\n      <td>Westmount</td>\n    </tr>\n    <tr>\n      <th>100</th>\n      <td>M9R</td>\n      <td>Etobicoke</td>\n      <td>Kingsview Village, Martin Grove Gardens, Richv...</td>\n    </tr>\n    <tr>\n      <th>101</th>\n      <td>M9V</td>\n      <td>Etobicoke</td>\n      <td>Albion Gardens, Beaumond Heights, Humbergate, ...</td>\n    </tr>\n    <tr>\n      <th>102</th>\n      <td>M9W</td>\n      <td>Etobicoke</td>\n      <td>Northwest</td>\n    </tr>\n  </tbody>\n</table>\n</div>", 
                        "text/plain": "    PostalCode     Borough                                       Neighborhood\n93         M9A   Etobicoke                                   Islington Avenue\n94         M9B   Etobicoke  Cloverdale, Islington, Martin Grove, Princess ...\n95         M9C   Etobicoke  Bloordale Gardens, Eringate, Markland Wood, Ol...\n96         M9L  North York                                      Humber Summit\n97         M9M  North York                                   Emery, Humberlea\n98         M9N        York                                             Weston\n99         M9P   Etobicoke                                          Westmount\n100        M9R   Etobicoke  Kingsview Village, Martin Grove Gardens, Richv...\n101        M9V   Etobicoke  Albion Gardens, Beaumond Heights, Humbergate, ...\n102        M9W   Etobicoke                                          Northwest"
                    }, 
                    "output_type": "execute_result"
                }
            ], 
            "source": "clean_df2.tail(10)"
        }, 
        {
            "source": "**Step 3: Replace unassigned Neighborhood by the Borough name**", 
            "cell_type": "markdown", 
            "metadata": {}
        }, 
        {
            "source": "We first list rows where the Neighborhood contains \"Not assigned\".", 
            "cell_type": "markdown", 
            "metadata": {}
        }, 
        {
            "execution_count": 16, 
            "cell_type": "code", 
            "metadata": {}, 
            "outputs": [
                {
                    "execution_count": 16, 
                    "metadata": {}, 
                    "data": {
                        "text/html": "<div>\n<style scoped>\n    .dataframe tbody tr th:only-of-type {\n        vertical-align: middle;\n    }\n\n    .dataframe tbody tr th {\n        vertical-align: top;\n    }\n\n    .dataframe thead th {\n        text-align: right;\n    }\n</style>\n<table border=\"1\" class=\"dataframe\">\n  <thead>\n    <tr style=\"text-align: right;\">\n      <th></th>\n      <th>PostalCode</th>\n      <th>Borough</th>\n      <th>Neighborhood</th>\n    </tr>\n  </thead>\n  <tbody>\n    <tr>\n      <th>85</th>\n      <td>M7A</td>\n      <td>Queen's Park</td>\n      <td>Not assigned</td>\n    </tr>\n  </tbody>\n</table>\n</div>", 
                        "text/plain": "   PostalCode       Borough  Neighborhood\n85        M7A  Queen's Park  Not assigned"
                    }, 
                    "output_type": "execute_result"
                }
            ], 
            "source": "clean_df2[clean_df2['Neighborhood'].str.contains('Not assigned')]"
        }, 
        {
            "source": "Only one record contains an unassigned Neighborhood name. We replace it.", 
            "cell_type": "markdown", 
            "metadata": {}
        }, 
        {
            "execution_count": 17, 
            "cell_type": "code", 
            "metadata": {}, 
            "outputs": [], 
            "source": "clean_df2.loc[clean_df2['Neighborhood'].str.contains('Not assigned'),'Neighborhood'] = clean_df2.loc[clean_df2['Neighborhood'].str.contains('Not assigned'),'Borough']"
        }, 
        {
            "source": "We verify that the data is now cleaned:", 
            "cell_type": "markdown", 
            "metadata": {}
        }, 
        {
            "execution_count": 18, 
            "cell_type": "code", 
            "metadata": {}, 
            "outputs": [
                {
                    "output_type": "stream", 
                    "name": "stdout", 
                    "text": "Checking for unassigned Neighborhood...\nAre there unassigned neighborhood? False\n"
                }
            ], 
            "source": "print('Checking for unassigned Neighborhood...')\nprint('Are there unassigned neighborhood?',~clean_df2[clean_df2['Neighborhood'].str.contains('Not assigned')]['Neighborhood'].count()==1)"
        }, 
        {
            "source": "**Step 4: Verification**", 
            "cell_type": "markdown", 
            "metadata": {}
        }, 
        {
            "execution_count": 19, 
            "cell_type": "code", 
            "metadata": {}, 
            "outputs": [
                {
                    "output_type": "stream", 
                    "name": "stdout", 
                    "text": "There are 103 records in the DataFrame\n"
                }
            ], 
            "source": "print(\"There are {} records in the DataFrame\".format(clean_df2.shape[0]))"
        }, 
        {
            "execution_count": 20, 
            "cell_type": "code", 
            "metadata": {}, 
            "outputs": [
                {
                    "output_type": "stream", 
                    "name": "stdout", 
                    "text": "The shape of the DataFrame is:\n(103, 3)\n"
                }
            ], 
            "source": "print(\"The shape of the DataFrame is:\")\nprint(clean_df2.shape)"
        }, 
        {
            "source": "# PART 1: END  \n__________________  \n# PART 2: START  ", 
            "cell_type": "markdown", 
            "metadata": {}
        }, 
        {
            "source": "## 2.Geolocalization\n\nIn this section, we retrieve the latitude and the longitude coordinates of each neighborhood. We loop through every row in our DataFrame and retrieve the latitude and longitude.", 
            "cell_type": "markdown", 
            "metadata": {}
        }, 
        {
            "execution_count": 21, 
            "cell_type": "code", 
            "metadata": {}, 
            "outputs": [
                {
                    "execution_count": 21, 
                    "metadata": {}, 
                    "data": {
                        "text/html": "<div>\n<style scoped>\n    .dataframe tbody tr th:only-of-type {\n        vertical-align: middle;\n    }\n\n    .dataframe tbody tr th {\n        vertical-align: top;\n    }\n\n    .dataframe thead th {\n        text-align: right;\n    }\n</style>\n<table border=\"1\" class=\"dataframe\">\n  <thead>\n    <tr style=\"text-align: right;\">\n      <th></th>\n      <th>PostalCode</th>\n      <th>Borough</th>\n      <th>Neighborhood</th>\n      <th>Latitude</th>\n      <th>Longitude</th>\n    </tr>\n  </thead>\n  <tbody>\n  </tbody>\n</table>\n</div>", 
                        "text/plain": "Empty DataFrame\nColumns: [PostalCode, Borough, Neighborhood, Latitude, Longitude]\nIndex: []"
                    }, 
                    "output_type": "execute_result"
                }
            ], 
            "source": "zip_canada = pd.DataFrame(columns = list(clean_df2.columns)+['Latitude','Longitude'])\nzip_canada"
        }, 
        {
            "source": "In order to geolocalize the neighborhood, we use the ARCGIS Service intead of the *geocoder.google*. ARCGIS is more reliable and gives accurate results after a single call to the API.", 
            "cell_type": "markdown", 
            "metadata": {}
        }, 
        {
            "source": "Geocoder Documentation:  \nhttps://media.readthedocs.org/pdf/geocoder/latest/geocoder.pdf", 
            "cell_type": "markdown", 
            "metadata": {}
        }, 
        {
            "execution_count": 22, 
            "cell_type": "code", 
            "metadata": {}, 
            "outputs": [
                {
                    "output_type": "stream", 
                    "name": "stdout", 
                    "text": "All locations have been retrieved.\n103 calls to the API were made.\n"
                }
            ], 
            "source": "# set counter of API calls\napi_calls = 0\n\nfor postalcode, borough, neighborhood in zip(clean_df2['PostalCode'],clean_df2['Borough'],clean_df2['Neighborhood']):  \n    # initialize your variable to None\n    lat_lng_coords = None\n\n    # loop until you get the coordinates\n    while(lat_lng_coords is None):\n        g = geocoder.arcgis('{}, Toronto, Ontario,Canada'.format(postalcode))\n        lat_lng_coords = g.latlng\n        api_calls+=1\n\n    latitude = lat_lng_coords[0]\n    longitude = lat_lng_coords[1]\n    \n    zip_canada = zip_canada.append({\n        'PostalCode':postalcode,\n        'Borough':borough,\n        'Neighborhood':neighborhood,\n        'Latitude':latitude,\n        'Longitude':longitude\n    },ignore_index=True)\n    \nprint('All locations have been retrieved.')\nprint('{} calls to the API were made.'.format(api_calls))"
        }, 
        {
            "execution_count": 23, 
            "cell_type": "code", 
            "metadata": {}, 
            "outputs": [
                {
                    "execution_count": 23, 
                    "metadata": {}, 
                    "data": {
                        "text/html": "<div>\n<style scoped>\n    .dataframe tbody tr th:only-of-type {\n        vertical-align: middle;\n    }\n\n    .dataframe tbody tr th {\n        vertical-align: top;\n    }\n\n    .dataframe thead th {\n        text-align: right;\n    }\n</style>\n<table border=\"1\" class=\"dataframe\">\n  <thead>\n    <tr style=\"text-align: right;\">\n      <th></th>\n      <th>PostalCode</th>\n      <th>Borough</th>\n      <th>Neighborhood</th>\n      <th>Latitude</th>\n      <th>Longitude</th>\n    </tr>\n  </thead>\n  <tbody>\n    <tr>\n      <th>0</th>\n      <td>M1B</td>\n      <td>Scarborough</td>\n      <td>Rouge, Malvern</td>\n      <td>43.811650</td>\n      <td>-79.195561</td>\n    </tr>\n    <tr>\n      <th>1</th>\n      <td>M1C</td>\n      <td>Scarborough</td>\n      <td>Highland Creek, Rouge Hill, Port Union</td>\n      <td>43.785605</td>\n      <td>-79.158701</td>\n    </tr>\n    <tr>\n      <th>2</th>\n      <td>M1E</td>\n      <td>Scarborough</td>\n      <td>Guildwood, Morningside, West Hill</td>\n      <td>43.765690</td>\n      <td>-79.175299</td>\n    </tr>\n    <tr>\n      <th>3</th>\n      <td>M1G</td>\n      <td>Scarborough</td>\n      <td>Woburn</td>\n      <td>43.768216</td>\n      <td>-79.217610</td>\n    </tr>\n    <tr>\n      <th>4</th>\n      <td>M1H</td>\n      <td>Scarborough</td>\n      <td>Cedarbrae</td>\n      <td>43.769608</td>\n      <td>-79.239440</td>\n    </tr>\n    <tr>\n      <th>5</th>\n      <td>M1J</td>\n      <td>Scarborough</td>\n      <td>Scarborough Village</td>\n      <td>43.743085</td>\n      <td>-79.232172</td>\n    </tr>\n    <tr>\n      <th>6</th>\n      <td>M1K</td>\n      <td>Scarborough</td>\n      <td>East Birchmount Park, Ionview, Kennedy Park</td>\n      <td>43.726260</td>\n      <td>-79.263670</td>\n    </tr>\n    <tr>\n      <th>7</th>\n      <td>M1L</td>\n      <td>Scarborough</td>\n      <td>Clairlea, Golden Mile, Oakridge</td>\n      <td>43.713213</td>\n      <td>-79.284910</td>\n    </tr>\n    <tr>\n      <th>8</th>\n      <td>M1M</td>\n      <td>Scarborough</td>\n      <td>Cliffcrest, Cliffside, Scarborough Village West</td>\n      <td>43.723575</td>\n      <td>-79.234976</td>\n    </tr>\n    <tr>\n      <th>9</th>\n      <td>M1N</td>\n      <td>Scarborough</td>\n      <td>Birch Cliff, Cliffside West</td>\n      <td>43.696690</td>\n      <td>-79.260069</td>\n    </tr>\n  </tbody>\n</table>\n</div>", 
                        "text/plain": "  PostalCode      Borough                                     Neighborhood   Latitude  Longitude\n0        M1B  Scarborough                                   Rouge, Malvern  43.811650 -79.195561\n1        M1C  Scarborough           Highland Creek, Rouge Hill, Port Union  43.785605 -79.158701\n2        M1E  Scarborough                Guildwood, Morningside, West Hill  43.765690 -79.175299\n3        M1G  Scarborough                                           Woburn  43.768216 -79.217610\n4        M1H  Scarborough                                        Cedarbrae  43.769608 -79.239440\n5        M1J  Scarborough                              Scarborough Village  43.743085 -79.232172\n6        M1K  Scarborough      East Birchmount Park, Ionview, Kennedy Park  43.726260 -79.263670\n7        M1L  Scarborough                  Clairlea, Golden Mile, Oakridge  43.713213 -79.284910\n8        M1M  Scarborough  Cliffcrest, Cliffside, Scarborough Village West  43.723575 -79.234976\n9        M1N  Scarborough                      Birch Cliff, Cliffside West  43.696690 -79.260069"
                    }, 
                    "output_type": "execute_result"
                }
            ], 
            "source": "zip_canada.head(10)"
        }, 
        {
            "execution_count": 24, 
            "cell_type": "code", 
            "metadata": {}, 
            "outputs": [], 
            "source": "# save csv file\nzip_canada.to_csv(\"./zip_canada.csv\")"
        }, 
        {
            "source": "# PART 2: END  ", 
            "cell_type": "markdown", 
            "metadata": {}
        }
    ], 
    "metadata": {
        "kernelspec": {
            "display_name": "Python 3.5", 
            "name": "python3", 
            "language": "python"
        }, 
        "language_info": {
            "mimetype": "text/x-python", 
            "nbconvert_exporter": "python", 
            "version": "3.5.5", 
            "name": "python", 
            "file_extension": ".py", 
            "pygments_lexer": "ipython3", 
            "codemirror_mode": {
                "version": 3, 
                "name": "ipython"
            }
        }
    }, 
    "nbformat": 4
}